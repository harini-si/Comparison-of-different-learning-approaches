{
  "nbformat": 4,
  "nbformat_minor": 0,
  "metadata": {
    "colab": {
      "name": "semi_supervised_saidl_(1)_(1) (1).ipynb",
      "provenance": [],
      "collapsed_sections": [],
      "include_colab_link": true
    },
    "kernelspec": {
      "name": "python3",
      "display_name": "Python 3"
    },
    "language_info": {
      "name": "python"
    },
    "accelerator": "GPU",
    "widgets": {
      "application/vnd.jupyter.widget-state+json": {
        "e8a5e55c528649278703ddd95c9ae5cc": {
          "model_module": "@jupyter-widgets/controls",
          "model_name": "HBoxModel",
          "model_module_version": "1.5.0",
          "state": {
            "_view_name": "HBoxView",
            "_dom_classes": [],
            "_model_name": "HBoxModel",
            "_view_module": "@jupyter-widgets/controls",
            "_model_module_version": "1.5.0",
            "_view_count": null,
            "_view_module_version": "1.5.0",
            "box_style": "",
            "layout": "IPY_MODEL_62ff811b2d714627a9e716a695dc6695",
            "_model_module": "@jupyter-widgets/controls",
            "children": [
              "IPY_MODEL_51b1c69e8cec46feb8878f8796c8a72d",
              "IPY_MODEL_6f92daccf332449f99a28dc278451bb9",
              "IPY_MODEL_2e041bd5063b46e1b2aecc1cca335fa7"
            ]
          }
        },
        "62ff811b2d714627a9e716a695dc6695": {
          "model_module": "@jupyter-widgets/base",
          "model_name": "LayoutModel",
          "model_module_version": "1.2.0",
          "state": {
            "_view_name": "LayoutView",
            "grid_template_rows": null,
            "right": null,
            "justify_content": null,
            "_view_module": "@jupyter-widgets/base",
            "overflow": null,
            "_model_module_version": "1.2.0",
            "_view_count": null,
            "flex_flow": null,
            "width": null,
            "min_width": null,
            "border": null,
            "align_items": null,
            "bottom": null,
            "_model_module": "@jupyter-widgets/base",
            "top": null,
            "grid_column": null,
            "overflow_y": null,
            "overflow_x": null,
            "grid_auto_flow": null,
            "grid_area": null,
            "grid_template_columns": null,
            "flex": null,
            "_model_name": "LayoutModel",
            "justify_items": null,
            "grid_row": null,
            "max_height": null,
            "align_content": null,
            "visibility": null,
            "align_self": null,
            "height": null,
            "min_height": null,
            "padding": null,
            "grid_auto_rows": null,
            "grid_gap": null,
            "max_width": null,
            "order": null,
            "_view_module_version": "1.2.0",
            "grid_template_areas": null,
            "object_position": null,
            "object_fit": null,
            "grid_auto_columns": null,
            "margin": null,
            "display": null,
            "left": null
          }
        },
        "51b1c69e8cec46feb8878f8796c8a72d": {
          "model_module": "@jupyter-widgets/controls",
          "model_name": "HTMLModel",
          "model_module_version": "1.5.0",
          "state": {
            "_view_name": "HTMLView",
            "style": "IPY_MODEL_5469bd14423a45d39523dbd9a06c5c2a",
            "_dom_classes": [],
            "description": "",
            "_model_name": "HTMLModel",
            "placeholder": "​",
            "_view_module": "@jupyter-widgets/controls",
            "_model_module_version": "1.5.0",
            "value": "",
            "_view_count": null,
            "_view_module_version": "1.5.0",
            "description_tooltip": null,
            "_model_module": "@jupyter-widgets/controls",
            "layout": "IPY_MODEL_3cd1395a881f4c349585eaeb8186f761"
          }
        },
        "6f92daccf332449f99a28dc278451bb9": {
          "model_module": "@jupyter-widgets/controls",
          "model_name": "FloatProgressModel",
          "model_module_version": "1.5.0",
          "state": {
            "_view_name": "ProgressView",
            "style": "IPY_MODEL_873cf9a396c245bf87cd5ff76af7586b",
            "_dom_classes": [],
            "description": "",
            "_model_name": "FloatProgressModel",
            "bar_style": "success",
            "max": 2640397119,
            "_view_module": "@jupyter-widgets/controls",
            "_model_module_version": "1.5.0",
            "value": 2640397119,
            "_view_count": null,
            "_view_module_version": "1.5.0",
            "orientation": "horizontal",
            "min": 0,
            "description_tooltip": null,
            "_model_module": "@jupyter-widgets/controls",
            "layout": "IPY_MODEL_3db85eaad5e943d4a55139a1ec7ef535"
          }
        },
        "2e041bd5063b46e1b2aecc1cca335fa7": {
          "model_module": "@jupyter-widgets/controls",
          "model_name": "HTMLModel",
          "model_module_version": "1.5.0",
          "state": {
            "_view_name": "HTMLView",
            "style": "IPY_MODEL_7fdec759c55e467e906b6610d9dc7ca7",
            "_dom_classes": [],
            "description": "",
            "_model_name": "HTMLModel",
            "placeholder": "​",
            "_view_module": "@jupyter-widgets/controls",
            "_model_module_version": "1.5.0",
            "value": " 2640397312/? [00:38&lt;00:00, 81111929.85it/s]",
            "_view_count": null,
            "_view_module_version": "1.5.0",
            "description_tooltip": null,
            "_model_module": "@jupyter-widgets/controls",
            "layout": "IPY_MODEL_4768793db61f40978d9e6afd91f38a13"
          }
        },
        "5469bd14423a45d39523dbd9a06c5c2a": {
          "model_module": "@jupyter-widgets/controls",
          "model_name": "DescriptionStyleModel",
          "model_module_version": "1.5.0",
          "state": {
            "_view_name": "StyleView",
            "_model_name": "DescriptionStyleModel",
            "description_width": "",
            "_view_module": "@jupyter-widgets/base",
            "_model_module_version": "1.5.0",
            "_view_count": null,
            "_view_module_version": "1.2.0",
            "_model_module": "@jupyter-widgets/controls"
          }
        },
        "3cd1395a881f4c349585eaeb8186f761": {
          "model_module": "@jupyter-widgets/base",
          "model_name": "LayoutModel",
          "model_module_version": "1.2.0",
          "state": {
            "_view_name": "LayoutView",
            "grid_template_rows": null,
            "right": null,
            "justify_content": null,
            "_view_module": "@jupyter-widgets/base",
            "overflow": null,
            "_model_module_version": "1.2.0",
            "_view_count": null,
            "flex_flow": null,
            "width": null,
            "min_width": null,
            "border": null,
            "align_items": null,
            "bottom": null,
            "_model_module": "@jupyter-widgets/base",
            "top": null,
            "grid_column": null,
            "overflow_y": null,
            "overflow_x": null,
            "grid_auto_flow": null,
            "grid_area": null,
            "grid_template_columns": null,
            "flex": null,
            "_model_name": "LayoutModel",
            "justify_items": null,
            "grid_row": null,
            "max_height": null,
            "align_content": null,
            "visibility": null,
            "align_self": null,
            "height": null,
            "min_height": null,
            "padding": null,
            "grid_auto_rows": null,
            "grid_gap": null,
            "max_width": null,
            "order": null,
            "_view_module_version": "1.2.0",
            "grid_template_areas": null,
            "object_position": null,
            "object_fit": null,
            "grid_auto_columns": null,
            "margin": null,
            "display": null,
            "left": null
          }
        },
        "873cf9a396c245bf87cd5ff76af7586b": {
          "model_module": "@jupyter-widgets/controls",
          "model_name": "ProgressStyleModel",
          "model_module_version": "1.5.0",
          "state": {
            "_view_name": "StyleView",
            "_model_name": "ProgressStyleModel",
            "description_width": "",
            "_view_module": "@jupyter-widgets/base",
            "_model_module_version": "1.5.0",
            "_view_count": null,
            "_view_module_version": "1.2.0",
            "bar_color": null,
            "_model_module": "@jupyter-widgets/controls"
          }
        },
        "3db85eaad5e943d4a55139a1ec7ef535": {
          "model_module": "@jupyter-widgets/base",
          "model_name": "LayoutModel",
          "model_module_version": "1.2.0",
          "state": {
            "_view_name": "LayoutView",
            "grid_template_rows": null,
            "right": null,
            "justify_content": null,
            "_view_module": "@jupyter-widgets/base",
            "overflow": null,
            "_model_module_version": "1.2.0",
            "_view_count": null,
            "flex_flow": null,
            "width": null,
            "min_width": null,
            "border": null,
            "align_items": null,
            "bottom": null,
            "_model_module": "@jupyter-widgets/base",
            "top": null,
            "grid_column": null,
            "overflow_y": null,
            "overflow_x": null,
            "grid_auto_flow": null,
            "grid_area": null,
            "grid_template_columns": null,
            "flex": null,
            "_model_name": "LayoutModel",
            "justify_items": null,
            "grid_row": null,
            "max_height": null,
            "align_content": null,
            "visibility": null,
            "align_self": null,
            "height": null,
            "min_height": null,
            "padding": null,
            "grid_auto_rows": null,
            "grid_gap": null,
            "max_width": null,
            "order": null,
            "_view_module_version": "1.2.0",
            "grid_template_areas": null,
            "object_position": null,
            "object_fit": null,
            "grid_auto_columns": null,
            "margin": null,
            "display": null,
            "left": null
          }
        },
        "7fdec759c55e467e906b6610d9dc7ca7": {
          "model_module": "@jupyter-widgets/controls",
          "model_name": "DescriptionStyleModel",
          "model_module_version": "1.5.0",
          "state": {
            "_view_name": "StyleView",
            "_model_name": "DescriptionStyleModel",
            "description_width": "",
            "_view_module": "@jupyter-widgets/base",
            "_model_module_version": "1.5.0",
            "_view_count": null,
            "_view_module_version": "1.2.0",
            "_model_module": "@jupyter-widgets/controls"
          }
        },
        "4768793db61f40978d9e6afd91f38a13": {
          "model_module": "@jupyter-widgets/base",
          "model_name": "LayoutModel",
          "model_module_version": "1.2.0",
          "state": {
            "_view_name": "LayoutView",
            "grid_template_rows": null,
            "right": null,
            "justify_content": null,
            "_view_module": "@jupyter-widgets/base",
            "overflow": null,
            "_model_module_version": "1.2.0",
            "_view_count": null,
            "flex_flow": null,
            "width": null,
            "min_width": null,
            "border": null,
            "align_items": null,
            "bottom": null,
            "_model_module": "@jupyter-widgets/base",
            "top": null,
            "grid_column": null,
            "overflow_y": null,
            "overflow_x": null,
            "grid_auto_flow": null,
            "grid_area": null,
            "grid_template_columns": null,
            "flex": null,
            "_model_name": "LayoutModel",
            "justify_items": null,
            "grid_row": null,
            "max_height": null,
            "align_content": null,
            "visibility": null,
            "align_self": null,
            "height": null,
            "min_height": null,
            "padding": null,
            "grid_auto_rows": null,
            "grid_gap": null,
            "max_width": null,
            "order": null,
            "_view_module_version": "1.2.0",
            "grid_template_areas": null,
            "object_position": null,
            "object_fit": null,
            "grid_auto_columns": null,
            "margin": null,
            "display": null,
            "left": null
          }
        }
      }
    }
  },
  "cells": [
    {
      "cell_type": "markdown",
      "metadata": {
        "id": "view-in-github",
        "colab_type": "text"
      },
      "source": [
        "<a href=\"https://colab.research.google.com/github/harini-si/saidl-assignment/blob/main/semi_supervised_saidl.ipynb\" target=\"_parent\"><img src=\"https://colab.research.google.com/assets/colab-badge.svg\" alt=\"Open In Colab\"/></a>"
      ]
    },
    {
      "cell_type": "markdown",
      "metadata": {
        "id": "iEnupz_8nYz5"
      },
      "source": [
        "The following notebook contains code for supervised and semi supervised part of computer vision assignment.\n",
        "The architecture used is a resnet 18 except the first layer dimensions have been modified to fit the input image size.\n",
        "Hyperparameters for supervised training:\n",
        "1. number of epochs- 16\n",
        "2. batch size-32\n",
        "3. learning rate-0.001\n",
        "\n",
        "(The results in the notebook are not the optimum results but close to it)\n",
        "\n",
        "The results in the notebook show a difference of only 1 per cent between supervised and semi supervised methods\n",
        "\n",
        "Accuracy for supervised learning\n",
        "\n",
        "train accuracy- 85%\n",
        "\n",
        "test accuracy- 61%\n",
        "\n",
        "Hyperparamaters for semi supervised learning\n",
        "1. number of epochs- 15\n",
        "2. batch size-64\n",
        "3. learning rate-0.001\n",
        "4. threshold value- 0.99\n",
        "\n",
        "Accuracy for semi-supervised learning\n",
        "\n",
        "train accuracy-93 %\n",
        "\n",
        "test accuracy-64 %\n",
        "\n",
        "The model is trained from the beginning after adding the labels i.e. weights from earlier training are not retained."
      ]
    },
    {
      "cell_type": "code",
      "metadata": {
        "id": "jZudy8DNaEpA"
      },
      "source": [
        "#imports\n",
        "import torch\n",
        "import torchvision\n",
        "import torch.nn as nn\n",
        "import torchvision.transforms as transforms\n",
        "import torch.nn.functional as F\n",
        "from torchvision.transforms import ToTensor\n",
        "from torch.utils.data import DataLoader,Dataset\n",
        "from torchvision import datasets\n",
        "import torch.optim as optim\n",
        "from PIL import Image\n",
        "import numpy as np"
      ],
      "execution_count": null,
      "outputs": []
    },
    {
      "cell_type": "code",
      "metadata": {
        "colab": {
          "base_uri": "https://localhost:8080/",
          "height": 99,
          "referenced_widgets": [
            "e8a5e55c528649278703ddd95c9ae5cc",
            "62ff811b2d714627a9e716a695dc6695",
            "51b1c69e8cec46feb8878f8796c8a72d",
            "6f92daccf332449f99a28dc278451bb9",
            "2e041bd5063b46e1b2aecc1cca335fa7",
            "5469bd14423a45d39523dbd9a06c5c2a",
            "3cd1395a881f4c349585eaeb8186f761",
            "873cf9a396c245bf87cd5ff76af7586b",
            "3db85eaad5e943d4a55139a1ec7ef535",
            "7fdec759c55e467e906b6610d9dc7ca7",
            "4768793db61f40978d9e6afd91f38a13"
          ]
        },
        "id": "bikIIKvuaHTh",
        "outputId": "602edc29-10ca-4db3-a556-5adc24050f0f"
      },
      "source": [
        "#loading the data\n",
        "train_data=datasets.STL10(root=\"./data\",split='train',download=True,transform=ToTensor())\n",
        "test_data=datasets.STL10(root=\"./data\",split='test',download=True,transform=ToTensor())\n",
        "train_loader=DataLoader(train_data,shuffle=True,batch_size=32)\n",
        "test_loader=DataLoader(test_data,shuffle=True,batch_size=32)"
      ],
      "execution_count": null,
      "outputs": [
        {
          "output_type": "stream",
          "text": [
            "Downloading http://ai.stanford.edu/~acoates/stl10/stl10_binary.tar.gz to ./data/stl10_binary.tar.gz\n"
          ],
          "name": "stdout"
        },
        {
          "output_type": "display_data",
          "data": {
            "application/vnd.jupyter.widget-view+json": {
              "model_id": "e8a5e55c528649278703ddd95c9ae5cc",
              "version_minor": 0,
              "version_major": 2
            },
            "text/plain": [
              "  0%|          | 0/2640397119 [00:00<?, ?it/s]"
            ]
          },
          "metadata": {
            "tags": []
          }
        },
        {
          "output_type": "stream",
          "text": [
            "Extracting ./data/stl10_binary.tar.gz to ./data\n",
            "Files already downloaded and verified\n"
          ],
          "name": "stdout"
        }
      ]
    },
    {
      "cell_type": "code",
      "metadata": {
        "id": "suWddOVFaM0R"
      },
      "source": [
        "import torch.backends.cudnn as cudnn\n",
        "device = 'cuda'\n"
      ],
      "execution_count": null,
      "outputs": []
    },
    {
      "cell_type": "code",
      "metadata": {
        "id": "6tBx-U2CbYww"
      },
      "source": [
        "torch.cuda.empty_cache()"
      ],
      "execution_count": null,
      "outputs": []
    },
    {
      "cell_type": "code",
      "metadata": {
        "id": "OXw6DINff3Ri"
      },
      "source": [
        "#defining the network\n",
        "class block(nn.Module):\n",
        "  def __init__(self,in_channels,out_channels,stride=1):\n",
        "    super(block,self).__init__()\n",
        "    self.flag = False\n",
        "    self.conv1=nn.Conv2d(in_channels,out_channels,kernel_size=3,stride=stride,padding=1)\n",
        "    self.bn1=nn.BatchNorm2d(out_channels)\n",
        "    self.conv2=nn.Conv2d(out_channels,out_channels,kernel_size=3,padding=1)\n",
        "    self.bn2=nn.BatchNorm2d(out_channels)\n",
        "    self.relu=nn.ReLU()\n",
        "    if stride != 1 or in_channels != out_channels:\n",
        "      self.flag = True\n",
        "      self.shortcut = nn.Sequential(\n",
        "                nn.Conv2d(in_channels,out_channels,kernel_size=1,stride=stride,bias=False),\n",
        "                nn.BatchNorm2d(out_channels)\n",
        "            )\n",
        "    else:\n",
        "      self.shortcut = nn.Sequential()\n",
        "  def forward(self, x):\n",
        "    out = self.relu(self.bn1(self.conv1(x)))\n",
        "    out = self.bn2(self.conv2(out))\n",
        "    if self.flag:\n",
        "      x = self.shortcut(x)\n",
        "    out += x\n",
        "    out = self.relu(out)\n",
        "    return out\n",
        "    \n",
        "class ResNet(nn.Module):\n",
        "  def __init__(self):\n",
        "    super(ResNet,self).__init__()\n",
        "    self.conv1= nn.Conv2d(3,64,kernel_size= 3,stride=1,padding=1,bias=False)\n",
        "   \n",
        "    \n",
        "    self.bn1=nn.BatchNorm2d(64)\n",
        "    self.conv2a=block(64,64)\n",
        "    self.conv2b=block(64,64,1)\n",
        "    self.conv3a=block(64,64)\n",
        "    self.conv3b=block(64,128,2)\n",
        "    \n",
        "    self.conv4a=block(128,128)\n",
        "    self.conv4b=block(128,256,2)\n",
        "    \n",
        "    \n",
        "    self.conv5a=block(256,256)\n",
        "    self.conv5b=block(256,512,2)\n",
        "    \n",
        "    self.relu = nn.ReLU()\n",
        "    self.dropout=nn.Dropout2d(0.5)\n",
        "    self.avg_pool=nn.AvgPool2d(kernel_size=4)\n",
        "    self.linear = nn.Linear(512 , 10)\n",
        "  def forward(self,x):\n",
        "    x=self.relu(self.bn1(self.conv1(x)))\n",
        "    \n",
        " \n",
        "    x=self.conv2a(x)\n",
        "    \n",
        "    x=self.conv2b(x)\n",
        "    x=F.max_pool2d(x,2,2)\n",
        "    x=self.conv3a(x)\n",
        "   \n",
        "    x=self.conv3b(x)\n",
        "    \n",
        "    \n",
        "    \n",
        "    x=self.conv4a(x)\n",
        "    \n",
        "    x=self.conv4b(x)\n",
        "   \n",
        "    x=self.conv5a(x)\n",
        "   \n",
        "    \n",
        "    x=self.conv5b(x)\n",
        "\n",
        "\n",
        "    x=self.avg_pool(x)\n",
        "    \n",
        "    x=x.view(x.size(0), -1)\n",
        "    x=self.dropout(x)\n",
        "    x=self.linear(x)\n",
        "   \n",
        "    return x"
      ],
      "execution_count": null,
      "outputs": []
    },
    {
      "cell_type": "code",
      "metadata": {
        "id": "V4iV5GDMb2co"
      },
      "source": [
        "#hyperparameters\n",
        "model=ResNet().to('cuda')\n",
        "learning_rate=0.001\n",
        "\n",
        "num_epochs=16"
      ],
      "execution_count": null,
      "outputs": []
    },
    {
      "cell_type": "code",
      "metadata": {
        "id": "jkr0nerOb69D"
      },
      "source": [
        "#loss and optimizer\n",
        "loss_fn=nn.CrossEntropyLoss()\n",
        "optimizer=torch.optim.Adam(model.parameters(), lr=learning_rate, betas=(0.9, 0.999),weight_decay=2e-4, eps=1e-08, amsgrad=False)\n"
      ],
      "execution_count": null,
      "outputs": []
    },
    {
      "cell_type": "code",
      "metadata": {
        "id": "sb4aIwxUcAS3",
        "colab": {
          "base_uri": "https://localhost:8080/"
        },
        "outputId": "abb6151d-5e1e-4f10-de9b-be6f0d9eb374"
      },
      "source": [
        "#def test loop and supervised training\n",
        "def test_loop(dataloader, model):\n",
        "    size = len(dataloader.dataset)\n",
        "    num_batches = len(dataloader)\n",
        "    test_loss, correct = 0, 0\n",
        "    model.eval()\n",
        "    with torch.no_grad():\n",
        "        for X, y in dataloader:\n",
        "            X=X.to('cuda')\n",
        "            y=y.to('cuda')\n",
        "            pred = model(X)\n",
        "            test_loss += loss_fn(pred, y).item()\n",
        "            correct += (pred.argmax(1) == y).type(torch.float).sum().item()\n",
        "\n",
        "    test_loss /= num_batches\n",
        "    correct /= size\n",
        "    Accuracy=100*correct\n",
        "    return Accuracy\n",
        "n_total_steps = len(train_loader)\n",
        "for epoch in range(num_epochs):\n",
        "   \n",
        "    correct=0\n",
        "    total=0\n",
        "    for i, (images, labels) in enumerate(train_loader):\n",
        "      \n",
        "        images = images.to('cuda')\n",
        "        labels = labels.to('cuda')\n",
        "\n",
        "        \n",
        "        outputs = model(images)\n",
        "        loss = loss_fn(outputs, labels)\n",
        "\n",
        "        \n",
        "        optimizer.zero_grad()\n",
        "        loss.backward()\n",
        "        optimizer.step()\n",
        "       \n",
        "        \n",
        "    \n",
        "        _, predicted = outputs.max(1)\n",
        "        total += labels.size(0)\n",
        "        correct += predicted.eq(labels).sum().item()\n",
        "      \n",
        "\n",
        "        if (i+1) % 20 == 0:\n",
        "            print (f'Epoch [{epoch+1}/{num_epochs}], Step [{i+1}/{n_total_steps}], Loss: {loss.item():.4f}')\n",
        "      \n",
        "    \n",
        "    accu= 100 * correct / len(train_data)\n",
        "    test_accu=test_loop(test_loader,model)\n",
        "    print(f'Epoch [{epoch+1}/{num_epochs}], train_accuracy: {accu:.4f},test_accuracy: {test_accu:.4f} %')   \n"
      ],
      "execution_count": null,
      "outputs": [
        {
          "output_type": "stream",
          "text": [
            "Epoch [1/16], Step [20/157], Loss: 2.0694\n",
            "Epoch [1/16], Step [40/157], Loss: 1.9475\n",
            "Epoch [1/16], Step [60/157], Loss: 1.6442\n",
            "Epoch [1/16], Step [80/157], Loss: 1.7202\n",
            "Epoch [1/16], Step [100/157], Loss: 1.7411\n",
            "Epoch [1/16], Step [120/157], Loss: 1.8664\n",
            "Epoch [1/16], Step [140/157], Loss: 1.7924\n",
            "Epoch [1/16], train_accuracy: 28.0200,test_accuracy: 32.6250 %\n",
            "Epoch [2/16], Step [20/157], Loss: 1.9640\n",
            "Epoch [2/16], Step [40/157], Loss: 1.8036\n",
            "Epoch [2/16], Step [60/157], Loss: 1.8491\n",
            "Epoch [2/16], Step [80/157], Loss: 1.7589\n",
            "Epoch [2/16], Step [100/157], Loss: 1.6170\n",
            "Epoch [2/16], Step [120/157], Loss: 1.6755\n",
            "Epoch [2/16], Step [140/157], Loss: 1.7245\n",
            "Epoch [2/16], train_accuracy: 28.9600,test_accuracy: 33.0375 %\n",
            "Epoch [3/16], Step [20/157], Loss: 1.6037\n",
            "Epoch [3/16], Step [40/157], Loss: 1.5868\n",
            "Epoch [3/16], Step [60/157], Loss: 1.3383\n",
            "Epoch [3/16], Step [80/157], Loss: 1.7759\n",
            "Epoch [3/16], Step [100/157], Loss: 1.7721\n",
            "Epoch [3/16], Step [120/157], Loss: 1.4775\n",
            "Epoch [3/16], Step [140/157], Loss: 1.5698\n",
            "Epoch [3/16], train_accuracy: 36.3600,test_accuracy: 33.7000 %\n",
            "Epoch [4/16], Step [20/157], Loss: 1.5164\n",
            "Epoch [4/16], Step [40/157], Loss: 1.3961\n",
            "Epoch [4/16], Step [60/157], Loss: 1.5500\n",
            "Epoch [4/16], Step [80/157], Loss: 1.8574\n",
            "Epoch [4/16], Step [100/157], Loss: 1.4865\n",
            "Epoch [4/16], Step [120/157], Loss: 1.5053\n",
            "Epoch [4/16], Step [140/157], Loss: 1.5804\n",
            "Epoch [4/16], train_accuracy: 40.0200,test_accuracy: 41.2250 %\n",
            "Epoch [5/16], Step [20/157], Loss: 1.4776\n",
            "Epoch [5/16], Step [40/157], Loss: 1.3379\n",
            "Epoch [5/16], Step [60/157], Loss: 1.5370\n",
            "Epoch [5/16], Step [80/157], Loss: 1.9026\n",
            "Epoch [5/16], Step [100/157], Loss: 1.6723\n",
            "Epoch [5/16], Step [120/157], Loss: 1.2969\n",
            "Epoch [5/16], Step [140/157], Loss: 1.6711\n",
            "Epoch [5/16], train_accuracy: 45.5400,test_accuracy: 46.6625 %\n",
            "Epoch [6/16], Step [20/157], Loss: 1.3397\n",
            "Epoch [6/16], Step [40/157], Loss: 1.2998\n",
            "Epoch [6/16], Step [60/157], Loss: 1.5530\n",
            "Epoch [6/16], Step [80/157], Loss: 1.2198\n",
            "Epoch [6/16], Step [100/157], Loss: 1.2376\n",
            "Epoch [6/16], Step [120/157], Loss: 1.4128\n",
            "Epoch [6/16], Step [140/157], Loss: 1.2400\n",
            "Epoch [6/16], train_accuracy: 47.3400,test_accuracy: 46.9250 %\n",
            "Epoch [7/16], Step [20/157], Loss: 1.3282\n",
            "Epoch [7/16], Step [40/157], Loss: 1.6679\n",
            "Epoch [7/16], Step [60/157], Loss: 1.1726\n",
            "Epoch [7/16], Step [80/157], Loss: 1.4108\n",
            "Epoch [7/16], Step [100/157], Loss: 1.3987\n",
            "Epoch [7/16], Step [120/157], Loss: 1.1209\n",
            "Epoch [7/16], Step [140/157], Loss: 1.3760\n",
            "Epoch [7/16], train_accuracy: 51.0600,test_accuracy: 51.7750 %\n",
            "Epoch [8/16], Step [20/157], Loss: 1.2213\n",
            "Epoch [8/16], Step [40/157], Loss: 1.2433\n",
            "Epoch [8/16], Step [60/157], Loss: 0.9703\n",
            "Epoch [8/16], Step [80/157], Loss: 1.0237\n",
            "Epoch [8/16], Step [100/157], Loss: 0.7329\n",
            "Epoch [8/16], Step [120/157], Loss: 1.3308\n",
            "Epoch [8/16], Step [140/157], Loss: 1.1234\n",
            "Epoch [8/16], train_accuracy: 54.7000,test_accuracy: 45.8625 %\n",
            "Epoch [9/16], Step [20/157], Loss: 0.8156\n",
            "Epoch [9/16], Step [40/157], Loss: 1.6997\n",
            "Epoch [9/16], Step [60/157], Loss: 0.9073\n",
            "Epoch [9/16], Step [80/157], Loss: 1.2766\n",
            "Epoch [9/16], Step [100/157], Loss: 1.3771\n",
            "Epoch [9/16], Step [120/157], Loss: 1.3107\n",
            "Epoch [9/16], Step [140/157], Loss: 1.2231\n",
            "Epoch [9/16], train_accuracy: 56.7600,test_accuracy: 52.6375 %\n",
            "Epoch [10/16], Step [20/157], Loss: 1.2731\n",
            "Epoch [10/16], Step [40/157], Loss: 1.0679\n",
            "Epoch [10/16], Step [60/157], Loss: 0.8993\n",
            "Epoch [10/16], Step [80/157], Loss: 1.1217\n",
            "Epoch [10/16], Step [100/157], Loss: 1.3079\n",
            "Epoch [10/16], Step [120/157], Loss: 1.1532\n",
            "Epoch [10/16], Step [140/157], Loss: 0.8298\n",
            "Epoch [10/16], train_accuracy: 60.2600,test_accuracy: 47.8375 %\n",
            "Epoch [11/16], Step [20/157], Loss: 1.1046\n",
            "Epoch [11/16], Step [40/157], Loss: 1.1786\n",
            "Epoch [11/16], Step [60/157], Loss: 0.9735\n",
            "Epoch [11/16], Step [80/157], Loss: 0.8777\n",
            "Epoch [11/16], Step [100/157], Loss: 0.9609\n",
            "Epoch [11/16], Step [120/157], Loss: 1.3828\n",
            "Epoch [11/16], Step [140/157], Loss: 1.2808\n",
            "Epoch [11/16], train_accuracy: 64.0200,test_accuracy: 55.4750 %\n",
            "Epoch [12/16], Step [20/157], Loss: 0.9065\n",
            "Epoch [12/16], Step [40/157], Loss: 1.0786\n",
            "Epoch [12/16], Step [60/157], Loss: 0.9144\n",
            "Epoch [12/16], Step [80/157], Loss: 1.0537\n",
            "Epoch [12/16], Step [100/157], Loss: 1.0896\n",
            "Epoch [12/16], Step [120/157], Loss: 0.9442\n",
            "Epoch [12/16], Step [140/157], Loss: 0.8838\n",
            "Epoch [12/16], train_accuracy: 67.5000,test_accuracy: 57.1625 %\n",
            "Epoch [13/16], Step [20/157], Loss: 0.6686\n",
            "Epoch [13/16], Step [40/157], Loss: 0.8764\n",
            "Epoch [13/16], Step [60/157], Loss: 0.9039\n",
            "Epoch [13/16], Step [80/157], Loss: 0.8921\n",
            "Epoch [13/16], Step [100/157], Loss: 0.7578\n",
            "Epoch [13/16], Step [120/157], Loss: 0.5550\n",
            "Epoch [13/16], Step [140/157], Loss: 0.5247\n",
            "Epoch [13/16], train_accuracy: 72.0000,test_accuracy: 58.7625 %\n",
            "Epoch [14/16], Step [20/157], Loss: 0.4494\n",
            "Epoch [14/16], Step [40/157], Loss: 0.4910\n",
            "Epoch [14/16], Step [60/157], Loss: 0.6667\n",
            "Epoch [14/16], Step [80/157], Loss: 0.6006\n",
            "Epoch [14/16], Step [100/157], Loss: 0.6743\n",
            "Epoch [14/16], Step [120/157], Loss: 0.5254\n",
            "Epoch [14/16], Step [140/157], Loss: 1.1983\n",
            "Epoch [14/16], train_accuracy: 74.4600,test_accuracy: 57.7875 %\n",
            "Epoch [15/16], Step [20/157], Loss: 0.5573\n",
            "Epoch [15/16], Step [40/157], Loss: 0.4318\n",
            "Epoch [15/16], Step [60/157], Loss: 0.4099\n",
            "Epoch [15/16], Step [80/157], Loss: 0.6987\n",
            "Epoch [15/16], Step [100/157], Loss: 0.6799\n",
            "Epoch [15/16], Step [120/157], Loss: 0.3438\n",
            "Epoch [15/16], Step [140/157], Loss: 0.7647\n",
            "Epoch [15/16], train_accuracy: 77.7800,test_accuracy: 56.8000 %\n",
            "Epoch [16/16], Step [20/157], Loss: 0.2230\n",
            "Epoch [16/16], Step [40/157], Loss: 0.4078\n",
            "Epoch [16/16], Step [60/157], Loss: 0.4292\n",
            "Epoch [16/16], Step [80/157], Loss: 0.8633\n",
            "Epoch [16/16], Step [100/157], Loss: 0.5480\n",
            "Epoch [16/16], Step [120/157], Loss: 0.5919\n",
            "Epoch [16/16], Step [140/157], Loss: 0.4450\n",
            "Epoch [16/16], train_accuracy: 81.6200,test_accuracy: 57.7750 %\n"
          ],
          "name": "stdout"
        }
      ]
    },
    {
      "cell_type": "code",
      "metadata": {
        "id": "GstOenYls88c"
      },
      "source": [
        "\n",
        "PATH = './cnn.pth'\n",
        "torch.save(model.state_dict(), PATH)"
      ],
      "execution_count": null,
      "outputs": []
    },
    {
      "cell_type": "code",
      "metadata": {
        "colab": {
          "base_uri": "https://localhost:8080/"
        },
        "id": "jgheIG3ws_08",
        "outputId": "004d1cb4-0e26-4336-b2e5-879dac8f9688"
      },
      "source": [
        "unlabeled=datasets.STL10(root=\"./data\",split='unlabeled',download=True,transform=ToTensor())\n",
        "\n",
        "unlabeled1=torch.utils.data.Subset(unlabeled,range(0,int (len(unlabeled)/2), 2))\n",
        "unlabelled_loader1=DataLoader(unlabeled1,shuffle=True,batch_size=32)"
      ],
      "execution_count": null,
      "outputs": [
        {
          "output_type": "stream",
          "text": [
            "Files already downloaded and verified\n"
          ],
          "name": "stdout"
        }
      ]
    },
    {
      "cell_type": "code",
      "metadata": {
        "colab": {
          "base_uri": "https://localhost:8080/"
        },
        "id": "MmXaGKVdtCTD",
        "outputId": "537db497-353b-4c93-f623-ac4abdbe6b3d"
      },
      "source": [
        "model.load_state_dict(torch.load(PATH))"
      ],
      "execution_count": null,
      "outputs": [
        {
          "output_type": "execute_result",
          "data": {
            "text/plain": [
              "<All keys matched successfully>"
            ]
          },
          "metadata": {
            "tags": []
          },
          "execution_count": 49
        }
      ]
    },
    {
      "cell_type": "code",
      "metadata": {
        "id": "LyiTDVTwtD5R"
      },
      "source": [
        "#threshold for p labels\n",
        "num_epochs1=10\n",
        "threshold=0.999"
      ],
      "execution_count": null,
      "outputs": []
    },
    {
      "cell_type": "code",
      "metadata": {
        "colab": {
          "base_uri": "https://localhost:8080/"
        },
        "id": "qJtAvApnl8p7",
        "outputId": "37ebad14-37dd-426e-f006-c56317d9853c"
      },
      "source": [
        "def generate_labels(unlabelled_loader1,threshold):\n",
        "  #model.eval()\n",
        "  x=0\n",
        "  plabels=[]\n",
        "  image=[]\n",
        "  with torch.no_grad():\n",
        "    for i, (images,labels) in enumerate (unlabelled_loader1):\n",
        "      images=images.to('cuda')\n",
        "      labels=labels.to('cuda')\n",
        "    \n",
        "      outputs=model(images)\n",
        "      outputs=F.softmax(outputs,dim=1)\n",
        "      if((outputs.max()>threshold) ):\n",
        "      \n",
        "        predicted=outputs.max(1)[1]\n",
        "        plabels.append(predicted)\n",
        "        image.append(images)\n",
        "      \n",
        "      \n",
        "      \n",
        "    return plabels,image\n",
        "pl,imgs=generate_labels(unlabelled_loader1,threshold)\n",
        "print(len(imgs))"
      ],
      "execution_count": null,
      "outputs": [
        {
          "output_type": "stream",
          "text": [
            "386\n"
          ],
          "name": "stdout"
        }
      ]
    },
    {
      "cell_type": "code",
      "metadata": {
        "id": "rnh_PAIP-2Om",
        "colab": {
          "base_uri": "https://localhost:8080/"
        },
        "outputId": "5044a577-7353-4a29-f030-cc3edba3fb6b"
      },
      "source": [
        "dataTensor = torch.cat(pl)\n",
        "print(dataTensor)\n",
        "dataTensor.to('cuda')\n",
        "imgTensor=torch.cat(imgs)\n",
        "print(len(imgTensor))\n",
        "imgTensor.to('cuda')\n",
        "i=[imgTensor]\n",
        "p=[dataTensor]"
      ],
      "execution_count": null,
      "outputs": [
        {
          "output_type": "stream",
          "text": [
            "tensor([5, 7, 1,  ..., 8, 7, 5], device='cuda:0')\n",
            "12352\n"
          ],
          "name": "stdout"
        }
      ]
    },
    {
      "cell_type": "code",
      "metadata": {
        "colab": {
          "base_uri": "https://localhost:8080/"
        },
        "id": "7HmS1XjOjOhp",
        "outputId": "23826fd9-2c07-4ffd-a89b-a1594133ec31"
      },
      "source": [
        "class MyDataset(Dataset):\n",
        "    def __init__(self, data,targets, transform=None):\n",
        "        self.data = i[0]\n",
        "        self.targets = p[0]\n",
        "       \n",
        "        \n",
        "    def __getitem__(self, index):\n",
        "        x = self.data[index]\n",
        "        y=self.targets[index]\n",
        "     \n",
        "\n",
        "     \n",
        "        \n",
        "        return x,y\n",
        "    \n",
        "    def __len__(self):\n",
        "        return len(self.data)\n",
        "\n",
        "\n",
        "\n",
        "transform = transforms.Compose([transforms.Resize(96), transforms.ToTensor()])\n",
        "dataset = MyDataset(i,p )\n",
        "print(dataset[0][0].shape)\n",
        "\n"
      ],
      "execution_count": null,
      "outputs": [
        {
          "output_type": "stream",
          "text": [
            "torch.Size([3, 96, 96])\n"
          ],
          "name": "stdout"
        }
      ]
    },
    {
      "cell_type": "code",
      "metadata": {
        "id": "_CIsTlbq_Zt2"
      },
      "source": [
        "x=[]\n",
        "y=[]\n",
        "for i,(images,labels) in enumerate(train_loader):\n",
        "  images=images.to(device)\n",
        "  labels=labels.to(device)\n",
        "  x.append(images)\n",
        "  y.append(labels)"
      ],
      "execution_count": null,
      "outputs": []
    },
    {
      "cell_type": "code",
      "metadata": {
        "colab": {
          "base_uri": "https://localhost:8080/"
        },
        "id": "UazHcnwIDGoM",
        "outputId": "e7532c93-07b7-4759-acaa-ff9d7a7afd57"
      },
      "source": [
        "train_x=torch.cat(x)\n",
        "train_y=torch.cat(y)\n",
        "type(train_y)"
      ],
      "execution_count": null,
      "outputs": [
        {
          "output_type": "execute_result",
          "data": {
            "text/plain": [
              "torch.Tensor"
            ]
          },
          "metadata": {
            "tags": []
          },
          "execution_count": 63
        }
      ]
    },
    {
      "cell_type": "code",
      "metadata": {
        "colab": {
          "base_uri": "https://localhost:8080/"
        },
        "id": "Q19iRynvBANf",
        "outputId": "11ccca55-0ae0-431d-b379-332a0868bb2d"
      },
      "source": [
        "class tDataset(Dataset):\n",
        "    def __init__(self, data,targets, transform=None):\n",
        "        self.data = train_x\n",
        "        self.targets = train_y\n",
        "        print(len(self.data))\n",
        "        \n",
        "        self.transform = transform\n",
        "        \n",
        "    def __getitem__(self, i):\n",
        "        x = self.data[i]\n",
        "        y=self.targets[i]\n",
        "        return x,y\n",
        "    \n",
        "    def __len__(self):\n",
        "        return len(self.data)\n",
        "data = tDataset(train_x,train_y)\n",
        "len(data)\n"
      ],
      "execution_count": null,
      "outputs": [
        {
          "output_type": "stream",
          "text": [
            "5000\n"
          ],
          "name": "stdout"
        },
        {
          "output_type": "execute_result",
          "data": {
            "text/plain": [
              "5000"
            ]
          },
          "metadata": {
            "tags": []
          },
          "execution_count": 64
        }
      ]
    },
    {
      "cell_type": "code",
      "metadata": {
        "colab": {
          "base_uri": "https://localhost:8080/"
        },
        "id": "W4GfrLH9Bejj",
        "outputId": "68611602-aced-48e0-82d9-ef0a04569e25"
      },
      "source": [
        "concatDataset=torch.utils.data.ConcatDataset([dataset,data])\n",
        "loader = DataLoader(concatDataset, batch_size=64,shuffle=True)\n",
        "len(concatDataset)"
      ],
      "execution_count": null,
      "outputs": [
        {
          "output_type": "execute_result",
          "data": {
            "text/plain": [
              "17352"
            ]
          },
          "metadata": {
            "tags": []
          },
          "execution_count": 65
        }
      ]
    },
    {
      "cell_type": "code",
      "metadata": {
        "id": "0d4ezIsrARTV"
      },
      "source": [
        "model=ResNet().to(device)\n",
        "\n",
        "loss_fn=nn.CrossEntropyLoss()\n",
        "optimizer=torch.optim.Adam(model.parameters(), lr=0.001, betas=(0.9, 0.999),weight_decay=2e-4, eps=1e-08, amsgrad=False)"
      ],
      "execution_count": null,
      "outputs": []
    },
    {
      "cell_type": "code",
      "metadata": {
        "id": "I7mOdvZEfaSf",
        "colab": {
          "base_uri": "https://localhost:8080/"
        },
        "outputId": "e2ac027f-24ee-46f1-9290-cfc8a7ab373c"
      },
      "source": [
        "n_total_steps = len(loader)\n",
        "for epoch in range(num_epochs1):\n",
        "   \n",
        "    correct=0\n",
        "    total=0\n",
        "    for i, (images, labels) in enumerate(loader):\n",
        "      \n",
        "    \n",
        "        images = images.to(device)\n",
        "        labels = labels.to(device,dtype=torch.int64)\n",
        "      \n",
        "\n",
        "        \n",
        "        outputs = model(images)\n",
        "        loss = loss_fn(outputs, labels)\n",
        "\n",
        "        \n",
        "        optimizer.zero_grad()\n",
        "        loss.backward()\n",
        "        optimizer.step()\n",
        "       \n",
        "        \n",
        "    \n",
        "        _, predicted = outputs.max(1)\n",
        "        total += labels.size(0)\n",
        "        correct += predicted.eq(labels).sum().item()\n",
        "      \n",
        "\n",
        "        if (i+1) % 100 == 0:\n",
        "            print (f'Epoch [{epoch+1}/{num_epochs1}], Step [{i+1}/{n_total_steps}], Loss: {loss.item():.4f}')\n",
        "      \n",
        "    \n",
        "    accu= 100 * correct / len(concatDataset)\n",
        "    test_accu=test_loop(test_loader,model)\n",
        "    print(f'Epoch [{epoch+1}/{num_epochs1}], train_accuracy: {accu:.4f},test_accuracy: {test_accu:.4f} %')   "
      ],
      "execution_count": null,
      "outputs": [
        {
          "output_type": "stream",
          "text": [
            "Epoch [1/15], Step [100/272], Loss: 1.5777\n",
            "Epoch [1/15], Step [200/272], Loss: 1.2247\n",
            "Epoch [1/15], train_accuracy: 39.4306,test_accuracy: 42.0375 %\n",
            "Epoch [2/15], Step [100/272], Loss: 1.9796\n",
            "Epoch [2/15], Step [200/272], Loss: 1.8351\n",
            "Epoch [2/15], train_accuracy: 25.3688,test_accuracy: 32.0125 %\n",
            "Epoch [3/15], Step [100/272], Loss: 1.6296\n",
            "Epoch [3/15], Step [200/272], Loss: 1.3386\n",
            "Epoch [3/15], train_accuracy: 37.3156,test_accuracy: 36.8875 %\n",
            "Epoch [4/15], Step [100/272], Loss: 1.3049\n",
            "Epoch [4/15], Step [200/272], Loss: 1.2031\n",
            "Epoch [4/15], train_accuracy: 47.7006,test_accuracy: 34.6750 %\n",
            "Epoch [5/15], Step [100/272], Loss: 1.3889\n",
            "Epoch [5/15], Step [200/272], Loss: 1.2523\n",
            "Epoch [5/15], train_accuracy: 53.7229,test_accuracy: 40.2375 %\n",
            "Epoch [6/15], Step [100/272], Loss: 1.1260\n",
            "Epoch [6/15], Step [200/272], Loss: 1.0505\n",
            "Epoch [6/15], train_accuracy: 58.4255,test_accuracy: 46.3750 %\n",
            "Epoch [7/15], Step [100/272], Loss: 0.9465\n",
            "Epoch [7/15], Step [200/272], Loss: 1.1145\n",
            "Epoch [7/15], train_accuracy: 62.5058,test_accuracy: 52.7875 %\n",
            "Epoch [8/15], Step [100/272], Loss: 0.9181\n",
            "Epoch [8/15], Step [200/272], Loss: 1.1529\n",
            "Epoch [8/15], train_accuracy: 64.8917,test_accuracy: 54.9250 %\n",
            "Epoch [9/15], Step [100/272], Loss: 0.8087\n",
            "Epoch [9/15], Step [200/272], Loss: 0.8906\n",
            "Epoch [9/15], train_accuracy: 66.8857,test_accuracy: 56.6250 %\n",
            "Epoch [10/15], Step [100/272], Loss: 0.9099\n",
            "Epoch [10/15], Step [200/272], Loss: 0.7065\n",
            "Epoch [10/15], train_accuracy: 69.5943,test_accuracy: 55.5375 %\n",
            "Epoch [11/15], Step [100/272], Loss: 0.7800\n",
            "Epoch [11/15], Step [200/272], Loss: 0.7353\n",
            "Epoch [11/15], train_accuracy: 71.8707,test_accuracy: 56.3875 %\n",
            "Epoch [12/15], Step [100/272], Loss: 0.7847\n",
            "Epoch [12/15], Step [200/272], Loss: 0.5466\n",
            "Epoch [12/15], train_accuracy: 73.6515,test_accuracy: 55.4375 %\n",
            "Epoch [13/15], Step [100/272], Loss: 0.4485\n",
            "Epoch [13/15], Step [200/272], Loss: 0.7311\n",
            "Epoch [13/15], train_accuracy: 75.9855,test_accuracy: 56.6750 %\n",
            "Epoch [14/15], Step [100/272], Loss: 0.5323\n",
            "Epoch [14/15], Step [200/272], Loss: 0.8194\n",
            "Epoch [14/15], train_accuracy: 78.0025,test_accuracy: 56.0750 %\n",
            "Epoch [15/15], Step [100/272], Loss: 0.5107\n",
            "Epoch [15/15], Step [200/272], Loss: 0.4394\n",
            "Epoch [15/15], train_accuracy: 80.5037,test_accuracy: 58.6625 %\n"
          ],
          "name": "stdout"
        }
      ]
    }
  ]
}
