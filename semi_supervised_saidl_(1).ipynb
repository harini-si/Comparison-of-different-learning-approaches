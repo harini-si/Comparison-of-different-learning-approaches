{
  "nbformat": 4,
  "nbformat_minor": 0,
  "metadata": {
    "colab": {
      "name": "semi_supervised_saidl_(1).ipynb",
      "provenance": [],
      "include_colab_link": true
    },
    "kernelspec": {
      "name": "python3",
      "display_name": "Python 3"
    },
    "language_info": {
      "name": "python"
    },
    "accelerator": "GPU"
  },
  "cells": [
    {
      "cell_type": "markdown",
      "metadata": {
        "id": "view-in-github",
        "colab_type": "text"
      },
      "source": [
        "<a href=\"https://colab.research.google.com/github/harini-si/saidl-assignment/blob/main/semi_supervised_saidl_(1).ipynb\" target=\"_parent\"><img src=\"https://colab.research.google.com/assets/colab-badge.svg\" alt=\"Open In Colab\"/></a>"
      ]
    },
    {
      "cell_type": "code",
      "metadata": {
        "id": "jZudy8DNaEpA"
      },
      "source": [
        "#imports\n",
        "import torch\n",
        "import torchvision\n",
        "import torch.nn as nn\n",
        "import torchvision.transforms as transforms\n",
        "import torch.nn.functional as F\n",
        "from torchvision.transforms import ToTensor\n",
        "from torch.utils.data import DataLoader,Dataset\n",
        "from torchvision import datasets\n",
        "import torch.optim as optim\n",
        "from PIL import Image\n",
        "import numpy as np"
      ],
      "execution_count": null,
      "outputs": []
    },
    {
      "cell_type": "code",
      "metadata": {
        "colab": {
          "base_uri": "https://localhost:8080/"
        },
        "id": "bikIIKvuaHTh",
        "outputId": "174017dd-239a-4eff-bb92-27902107ebd9"
      },
      "source": [
        "#loading the data\n",
        "train_data=datasets.STL10(root=\"./data\",split='train',download=True,transform=ToTensor())\n",
        "test_data=datasets.STL10(root=\"./data\",split='test',download=True,transform=ToTensor())\n",
        "train_loader=DataLoader(train_data,shuffle=True,batch_size=32)\n",
        "test_loader=DataLoader(test_data,shuffle=True,batch_size=32)"
      ],
      "execution_count": null,
      "outputs": [
        {
          "output_type": "stream",
          "text": [
            "Files already downloaded and verified\n",
            "Files already downloaded and verified\n"
          ],
          "name": "stdout"
        }
      ]
    },
    {
      "cell_type": "code",
      "metadata": {
        "id": "suWddOVFaM0R"
      },
      "source": [
        "import torch.backends.cudnn as cudnn\n",
        "device = 'cuda'\n"
      ],
      "execution_count": null,
      "outputs": []
    },
    {
      "cell_type": "code",
      "metadata": {
        "id": "6tBx-U2CbYww"
      },
      "source": [
        "torch.cuda.empty_cache()"
      ],
      "execution_count": null,
      "outputs": []
    },
    {
      "cell_type": "code",
      "metadata": {
        "id": "OXw6DINff3Ri"
      },
      "source": [
        "#defining the network\n",
        "class block(nn.Module):\n",
        "  def __init__(self,in_channels,out_channels,stride=1):\n",
        "    super(block,self).__init__()\n",
        "    self.flag = False\n",
        "    self.conv1=nn.Conv2d(in_channels,out_channels,kernel_size=3,stride=stride,padding=1)\n",
        "    self.bn1=nn.BatchNorm2d(out_channels)\n",
        "    self.conv2=nn.Conv2d(out_channels,out_channels,kernel_size=3,padding=1)\n",
        "    self.bn2=nn.BatchNorm2d(out_channels)\n",
        "    self.relu=nn.ReLU()\n",
        "    if stride != 1 or in_channels != out_channels:\n",
        "      self.flag = True\n",
        "      self.shortcut = nn.Sequential(\n",
        "                nn.Conv2d(in_channels,out_channels,kernel_size=1,stride=stride,bias=False),\n",
        "                nn.BatchNorm2d(out_channels)\n",
        "            )\n",
        "    else:\n",
        "      self.shortcut = nn.Sequential()\n",
        "  def forward(self, x):\n",
        "    out = self.relu(self.bn1(self.conv1(x)))\n",
        "    out = self.bn2(self.conv2(out))\n",
        "    if self.flag:\n",
        "      x = self.shortcut(x)\n",
        "    out += x\n",
        "    out = self.relu(out)\n",
        "    return out\n",
        "    \n",
        "class ResNet(nn.Module):\n",
        "  def __init__(self):\n",
        "    super(ResNet,self).__init__()\n",
        "    self.conv1= nn.Conv2d(3,64,kernel_size= 3,stride=1,padding=1,bias=False)\n",
        "   \n",
        "    \n",
        "    self.bn1=nn.BatchNorm2d(64)\n",
        "    self.conv2a=block(64,64)\n",
        "    self.conv2b=block(64,64,2)\n",
        "    self.conv3a=block(64,64)\n",
        "    self.conv3b=block(64,128,2)\n",
        "    \n",
        "    self.conv4a=block(128,128)\n",
        "    self.conv4b=block(128,256,2)\n",
        "    \n",
        "    \n",
        "    self.conv5a=block(256,256)\n",
        "    self.conv5b=block(256,512,2)\n",
        "    #self.conv6a=block(512,512)\n",
        "    #self.conv6b=block(512,512,1)\n",
        "    self.relu = nn.ReLU()\n",
        "    self.dropout=nn.Dropout2d(0.6)\n",
        "    self.avg_pool=nn.AvgPool2d(kernel_size=4)\n",
        "    self.linear = nn.Linear(512 , 10)\n",
        "  def forward(self,x):\n",
        "    x=self.relu(self.bn1(self.conv1(x)))\n",
        "    \n",
        "    #x=F.max_pool2d(x,2,2)\n",
        "    x=self.conv2a(x)\n",
        "    x=self.dropout(x)\n",
        "    x=self.conv2b(x)\n",
        "    #x=F.max_pool2d(x,2,2)\n",
        "    x=self.conv3a(x)\n",
        "    x=self.dropout(x)\n",
        "    x=self.conv3b(x)\n",
        "    \n",
        "    #x=F.max_pool2d(x,2,2)\n",
        "    \n",
        "    x=self.conv4a(x)\n",
        "    x=self.dropout(x)\n",
        "    x=self.conv4b(x)\n",
        "    #x=F.max_pool2d(x,2,2)\n",
        "    x=self.conv5a(x)\n",
        "    x=self.dropout(x)\n",
        "    \n",
        "    x=self.conv5b(x)\n",
        "    #x=self.conv6a(x)\n",
        "    #x=self.dropout(x)\n",
        "    \n",
        "    #x=self.conv6b(x)\n",
        "    x=self.avg_pool(x)\n",
        "  \n",
        "    x=x.view(x.size(0), -1)\n",
        "    x=self.linear(x)\n",
        "   \n",
        "    return x"
      ],
      "execution_count": null,
      "outputs": []
    },
    {
      "cell_type": "code",
      "metadata": {
        "id": "V4iV5GDMb2co"
      },
      "source": [
        "#hyperparameters\n",
        "model=ResNet().to('cuda')\n",
        "learning_rate=0.001\n",
        "batch_size=32\n",
        "num_epochs=20"
      ],
      "execution_count": null,
      "outputs": []
    },
    {
      "cell_type": "code",
      "metadata": {
        "id": "is3rKO4CcuQM",
        "colab": {
          "base_uri": "https://localhost:8080/"
        },
        "outputId": "937bf107-bdc6-4d39-bd19-c8357a58ec5f"
      },
      "source": [
        "def init_weights(m):\n",
        "    if type(m) == nn.Linear:\n",
        "        torch.nn.init.xavier_uniform(m.weight)\n",
        " \n",
        "# Applying it to our net\n",
        "model.apply(init_weights)"
      ],
      "execution_count": null,
      "outputs": [
        {
          "output_type": "stream",
          "text": [
            "/usr/local/lib/python3.7/dist-packages/ipykernel_launcher.py:3: UserWarning: nn.init.xavier_uniform is now deprecated in favor of nn.init.xavier_uniform_.\n",
            "  This is separate from the ipykernel package so we can avoid doing imports until\n"
          ],
          "name": "stderr"
        },
        {
          "output_type": "execute_result",
          "data": {
            "text/plain": [
              "ResNet(\n",
              "  (conv1): Conv2d(3, 64, kernel_size=(3, 3), stride=(1, 1), padding=(1, 1), bias=False)\n",
              "  (bn1): BatchNorm2d(64, eps=1e-05, momentum=0.1, affine=True, track_running_stats=True)\n",
              "  (conv2a): block(\n",
              "    (conv1): Conv2d(64, 64, kernel_size=(3, 3), stride=(1, 1), padding=(1, 1))\n",
              "    (bn1): BatchNorm2d(64, eps=1e-05, momentum=0.1, affine=True, track_running_stats=True)\n",
              "    (conv2): Conv2d(64, 64, kernel_size=(3, 3), stride=(1, 1), padding=(1, 1))\n",
              "    (bn2): BatchNorm2d(64, eps=1e-05, momentum=0.1, affine=True, track_running_stats=True)\n",
              "    (relu): ReLU()\n",
              "    (shortcut): Sequential()\n",
              "  )\n",
              "  (conv2b): block(\n",
              "    (conv1): Conv2d(64, 64, kernel_size=(3, 3), stride=(2, 2), padding=(1, 1))\n",
              "    (bn1): BatchNorm2d(64, eps=1e-05, momentum=0.1, affine=True, track_running_stats=True)\n",
              "    (conv2): Conv2d(64, 64, kernel_size=(3, 3), stride=(1, 1), padding=(1, 1))\n",
              "    (bn2): BatchNorm2d(64, eps=1e-05, momentum=0.1, affine=True, track_running_stats=True)\n",
              "    (relu): ReLU()\n",
              "    (shortcut): Sequential(\n",
              "      (0): Conv2d(64, 64, kernel_size=(1, 1), stride=(2, 2), bias=False)\n",
              "      (1): BatchNorm2d(64, eps=1e-05, momentum=0.1, affine=True, track_running_stats=True)\n",
              "    )\n",
              "  )\n",
              "  (conv3a): block(\n",
              "    (conv1): Conv2d(64, 64, kernel_size=(3, 3), stride=(1, 1), padding=(1, 1))\n",
              "    (bn1): BatchNorm2d(64, eps=1e-05, momentum=0.1, affine=True, track_running_stats=True)\n",
              "    (conv2): Conv2d(64, 64, kernel_size=(3, 3), stride=(1, 1), padding=(1, 1))\n",
              "    (bn2): BatchNorm2d(64, eps=1e-05, momentum=0.1, affine=True, track_running_stats=True)\n",
              "    (relu): ReLU()\n",
              "    (shortcut): Sequential()\n",
              "  )\n",
              "  (conv3b): block(\n",
              "    (conv1): Conv2d(64, 128, kernel_size=(3, 3), stride=(2, 2), padding=(1, 1))\n",
              "    (bn1): BatchNorm2d(128, eps=1e-05, momentum=0.1, affine=True, track_running_stats=True)\n",
              "    (conv2): Conv2d(128, 128, kernel_size=(3, 3), stride=(1, 1), padding=(1, 1))\n",
              "    (bn2): BatchNorm2d(128, eps=1e-05, momentum=0.1, affine=True, track_running_stats=True)\n",
              "    (relu): ReLU()\n",
              "    (shortcut): Sequential(\n",
              "      (0): Conv2d(64, 128, kernel_size=(1, 1), stride=(2, 2), bias=False)\n",
              "      (1): BatchNorm2d(128, eps=1e-05, momentum=0.1, affine=True, track_running_stats=True)\n",
              "    )\n",
              "  )\n",
              "  (conv4a): block(\n",
              "    (conv1): Conv2d(128, 128, kernel_size=(3, 3), stride=(1, 1), padding=(1, 1))\n",
              "    (bn1): BatchNorm2d(128, eps=1e-05, momentum=0.1, affine=True, track_running_stats=True)\n",
              "    (conv2): Conv2d(128, 128, kernel_size=(3, 3), stride=(1, 1), padding=(1, 1))\n",
              "    (bn2): BatchNorm2d(128, eps=1e-05, momentum=0.1, affine=True, track_running_stats=True)\n",
              "    (relu): ReLU()\n",
              "    (shortcut): Sequential()\n",
              "  )\n",
              "  (conv4b): block(\n",
              "    (conv1): Conv2d(128, 256, kernel_size=(3, 3), stride=(2, 2), padding=(1, 1))\n",
              "    (bn1): BatchNorm2d(256, eps=1e-05, momentum=0.1, affine=True, track_running_stats=True)\n",
              "    (conv2): Conv2d(256, 256, kernel_size=(3, 3), stride=(1, 1), padding=(1, 1))\n",
              "    (bn2): BatchNorm2d(256, eps=1e-05, momentum=0.1, affine=True, track_running_stats=True)\n",
              "    (relu): ReLU()\n",
              "    (shortcut): Sequential(\n",
              "      (0): Conv2d(128, 256, kernel_size=(1, 1), stride=(2, 2), bias=False)\n",
              "      (1): BatchNorm2d(256, eps=1e-05, momentum=0.1, affine=True, track_running_stats=True)\n",
              "    )\n",
              "  )\n",
              "  (conv5a): block(\n",
              "    (conv1): Conv2d(256, 256, kernel_size=(3, 3), stride=(1, 1), padding=(1, 1))\n",
              "    (bn1): BatchNorm2d(256, eps=1e-05, momentum=0.1, affine=True, track_running_stats=True)\n",
              "    (conv2): Conv2d(256, 256, kernel_size=(3, 3), stride=(1, 1), padding=(1, 1))\n",
              "    (bn2): BatchNorm2d(256, eps=1e-05, momentum=0.1, affine=True, track_running_stats=True)\n",
              "    (relu): ReLU()\n",
              "    (shortcut): Sequential()\n",
              "  )\n",
              "  (conv5b): block(\n",
              "    (conv1): Conv2d(256, 512, kernel_size=(3, 3), stride=(2, 2), padding=(1, 1))\n",
              "    (bn1): BatchNorm2d(512, eps=1e-05, momentum=0.1, affine=True, track_running_stats=True)\n",
              "    (conv2): Conv2d(512, 512, kernel_size=(3, 3), stride=(1, 1), padding=(1, 1))\n",
              "    (bn2): BatchNorm2d(512, eps=1e-05, momentum=0.1, affine=True, track_running_stats=True)\n",
              "    (relu): ReLU()\n",
              "    (shortcut): Sequential(\n",
              "      (0): Conv2d(256, 512, kernel_size=(1, 1), stride=(2, 2), bias=False)\n",
              "      (1): BatchNorm2d(512, eps=1e-05, momentum=0.1, affine=True, track_running_stats=True)\n",
              "    )\n",
              "  )\n",
              "  (relu): ReLU()\n",
              "  (dropout): Dropout2d(p=0.6, inplace=False)\n",
              "  (avg_pool): AvgPool2d(kernel_size=4, stride=4, padding=0)\n",
              "  (linear): Linear(in_features=512, out_features=10, bias=True)\n",
              ")"
            ]
          },
          "metadata": {
            "tags": []
          },
          "execution_count": 22
        }
      ]
    },
    {
      "cell_type": "code",
      "metadata": {
        "id": "jkr0nerOb69D"
      },
      "source": [
        "#loss and optimizer\n",
        "loss_fn=nn.CrossEntropyLoss()\n",
        "optimizer=torch.optim.Adam(model.parameters(), lr=learning_rate, betas=(0.9, 0.999),weight_decay=1e-5, eps=1e-08, amsgrad=False)\n"
      ],
      "execution_count": null,
      "outputs": []
    },
    {
      "cell_type": "code",
      "metadata": {
        "id": "sb4aIwxUcAS3"
      },
      "source": [
        "#def test loop and supervised training\n",
        "def test_loop(dataloader, model):\n",
        "    size = len(dataloader.dataset)\n",
        "    num_batches = len(dataloader)\n",
        "    test_loss, correct = 0, 0\n",
        "    model.eval()\n",
        "    with torch.no_grad():\n",
        "        for X, y in dataloader:\n",
        "            X=X.to('cuda')\n",
        "            y=y.to('cuda')\n",
        "            pred = model(X)\n",
        "            test_loss += loss_fn(pred, y).item()\n",
        "            correct += (pred.argmax(1) == y).type(torch.float).sum().item()\n",
        "\n",
        "    test_loss /= num_batches\n",
        "    correct /= size\n",
        "    Accuracy=100*correct\n",
        "    return Accuracy\n",
        "n_total_steps = len(train_loader)\n",
        "for epoch in range(num_epochs):\n",
        "   \n",
        "    correct=0\n",
        "    total=0\n",
        "    for i, (images, labels) in enumerate(train_loader):\n",
        "      \n",
        "        images = images.to('cuda')\n",
        "        labels = labels.to('cuda')\n",
        "\n",
        "        \n",
        "        outputs = model(images)\n",
        "        loss = loss_fn(outputs, labels)\n",
        "\n",
        "        \n",
        "        optimizer.zero_grad()\n",
        "        loss.backward()\n",
        "        optimizer.step()\n",
        "       \n",
        "        \n",
        "    \n",
        "        _, predicted = outputs.max(1)\n",
        "        total += labels.size(0)\n",
        "        correct += predicted.eq(labels).sum().item()\n",
        "      \n",
        "\n",
        "        if (i+1) % 20 == 0:\n",
        "            print (f'Epoch [{epoch+1}/{num_epochs}], Step [{i+1}/{n_total_steps}], Loss: {loss.item():.4f}')\n",
        "      \n",
        "    \n",
        "    accu= 100 * correct / len(train_data)\n",
        "    test_accu=test_loop(test_loader,model)\n",
        "    print(f'Epoch [{epoch+1}/{num_epochs}], train_accuracy: {accu:.4f},test_accuracy: {test_accu:.4f} %')   \n"
      ],
      "execution_count": null,
      "outputs": []
    },
    {
      "cell_type": "code",
      "metadata": {
        "id": "GstOenYls88c"
      },
      "source": [
        "\n",
        "PATH = './cnn.pth'\n",
        "torch.save(model.state_dict(), PATH)"
      ],
      "execution_count": null,
      "outputs": []
    },
    {
      "cell_type": "code",
      "metadata": {
        "colab": {
          "base_uri": "https://localhost:8080/"
        },
        "id": "jgheIG3ws_08",
        "outputId": "7a1dba6a-11cf-4328-9266-454486e24191"
      },
      "source": [
        "unlabeled=datasets.STL10(root=\"./data\",split='unlabeled',download=True,transform=ToTensor())\n",
        "\n",
        "unlabeled1=torch.utils.data.Subset(unlabeled,range(0,int (len(unlabeled)/5), 2))\n",
        "unlabelled_loader1=DataLoader(unlabeled1,shuffle=True,batch_size=32)"
      ],
      "execution_count": null,
      "outputs": [
        {
          "output_type": "stream",
          "text": [
            "Files already downloaded and verified\n"
          ],
          "name": "stdout"
        }
      ]
    },
    {
      "cell_type": "code",
      "metadata": {
        "colab": {
          "base_uri": "https://localhost:8080/"
        },
        "id": "MmXaGKVdtCTD",
        "outputId": "8cb55aba-5299-4be3-a9a2-260854cb23ad"
      },
      "source": [
        "model.load_state_dict(torch.load(PATH))"
      ],
      "execution_count": null,
      "outputs": [
        {
          "output_type": "execute_result",
          "data": {
            "text/plain": [
              "<All keys matched successfully>"
            ]
          },
          "metadata": {
            "tags": []
          },
          "execution_count": 27
        }
      ]
    },
    {
      "cell_type": "code",
      "metadata": {
        "id": "LyiTDVTwtD5R"
      },
      "source": [
        "#threshold for p labels\n",
        "num_epochs1=10\n",
        "threshold=0.95"
      ],
      "execution_count": null,
      "outputs": []
    },
    {
      "cell_type": "code",
      "metadata": {
        "colab": {
          "base_uri": "https://localhost:8080/"
        },
        "id": "qJtAvApnl8p7",
        "outputId": "0c1e734e-d84a-430f-f4cb-088903f60b30"
      },
      "source": [
        "def generate_labels(unlabelled_loader1,threshold):\n",
        "  model.eval()\n",
        "  x=0\n",
        "  plabels=[]\n",
        "  image=[]\n",
        "  with torch.no_grad():\n",
        "    for i, (images,labels) in enumerate (unlabelled_loader1):\n",
        "      images=images.to('cuda')\n",
        "      labels=labels.to('cuda')\n",
        "    \n",
        "      outputs=model(images)\n",
        "      outputs=F.softmax(outputs,dim=1)\n",
        "      if((outputs.max()>threshold) and images!=[]):\n",
        "      \n",
        "        predicted=outputs.max(1)[1]\n",
        "        plabels.append(predicted)\n",
        "        image.append(images)\n",
        "      \n",
        "      #image.append([images,predicted])\n",
        "      \n",
        "    return plabels,image\n",
        "pl,imgs=generate_labels(unlabelled_loader1,threshold)\n",
        "print(len(imgs))"
      ],
      "execution_count": null,
      "outputs": [
        {
          "output_type": "stream",
          "text": [
            "313\n"
          ],
          "name": "stdout"
        }
      ]
    },
    {
      "cell_type": "code",
      "metadata": {
        "id": "rnh_PAIP-2Om",
        "colab": {
          "base_uri": "https://localhost:8080/"
        },
        "outputId": "0eb6a4dc-c30b-472d-a0cd-a0ae9fdb6522"
      },
      "source": [
        "dataTensor = torch.cat(pl)\n",
        "print(dataTensor)\n",
        "dataTensor.to('cuda')\n",
        "imgTensor=torch.cat(imgs)\n",
        "print(len(imgTensor))\n",
        "imgTensor.to('cuda')\n",
        "i=[imgTensor]\n",
        "p=[dataTensor]"
      ],
      "execution_count": null,
      "outputs": [
        {
          "output_type": "stream",
          "text": [
            "tensor([8, 6, 7,  ..., 5, 6, 6], device='cuda:0')\n",
            "10000\n"
          ],
          "name": "stdout"
        }
      ]
    },
    {
      "cell_type": "code",
      "metadata": {
        "colab": {
          "base_uri": "https://localhost:8080/"
        },
        "id": "7HmS1XjOjOhp",
        "outputId": "097b327a-cad0-469e-e166-89d333b9a500"
      },
      "source": [
        "class MyDataset(Dataset):\n",
        "    def __init__(self, data,targets, transform=None):\n",
        "        self.data = i[0]\n",
        "        self.targets = p[0]\n",
        "       \n",
        "        \n",
        "    def __getitem__(self, index):\n",
        "        x = self.data[index]\n",
        "        y=self.targets[index]\n",
        "     \n",
        "\n",
        "     \n",
        "        \n",
        "        return x,y\n",
        "    \n",
        "    def __len__(self):\n",
        "        return len(self.data)\n",
        "\n",
        "\n",
        "\n",
        "transform = transforms.Compose([transforms.Resize(96), transforms.ToTensor()])\n",
        "dataset = MyDataset(i,p )\n",
        "print(dataset[0][0].shape)\n",
        "\n"
      ],
      "execution_count": null,
      "outputs": [
        {
          "output_type": "stream",
          "text": [
            "torch.Size([3, 96, 96])\n"
          ],
          "name": "stdout"
        }
      ]
    },
    {
      "cell_type": "code",
      "metadata": {
        "id": "_CIsTlbq_Zt2"
      },
      "source": [
        "x=[]\n",
        "y=[]\n",
        "for i,(images,labels) in enumerate(train_loader):\n",
        "  images=images.to(device)\n",
        "  labels=labels.to(device)\n",
        "  x.append(images)\n",
        "  y.append(labels)"
      ],
      "execution_count": null,
      "outputs": []
    },
    {
      "cell_type": "code",
      "metadata": {
        "colab": {
          "base_uri": "https://localhost:8080/"
        },
        "id": "UazHcnwIDGoM",
        "outputId": "6bf2b282-a13d-49b5-c2c2-a874a498c0fa"
      },
      "source": [
        "train_x=torch.cat(x)\n",
        "train_y=torch.cat(y)\n",
        "type(train_y)"
      ],
      "execution_count": null,
      "outputs": [
        {
          "output_type": "execute_result",
          "data": {
            "text/plain": [
              "torch.Tensor"
            ]
          },
          "metadata": {
            "tags": []
          },
          "execution_count": 34
        }
      ]
    },
    {
      "cell_type": "code",
      "metadata": {
        "colab": {
          "base_uri": "https://localhost:8080/"
        },
        "id": "Q19iRynvBANf",
        "outputId": "e3bf262b-72b2-4793-faf4-57e9a1dc9a99"
      },
      "source": [
        "class tDataset(Dataset):\n",
        "    def __init__(self, data,targets, transform=None):\n",
        "        self.data = train_x\n",
        "        self.targets = train_y\n",
        "        print(len(self.data))\n",
        "        \n",
        "        self.transform = transform\n",
        "        \n",
        "    def __getitem__(self, i):\n",
        "        x = self.data[i]\n",
        "        y=self.targets[i]\n",
        "        return x,y\n",
        "    \n",
        "    def __len__(self):\n",
        "        return len(self.data)\n",
        "data = tDataset(train_x,train_y)\n",
        "len(data)\n"
      ],
      "execution_count": null,
      "outputs": [
        {
          "output_type": "stream",
          "text": [
            "5000\n"
          ],
          "name": "stdout"
        },
        {
          "output_type": "execute_result",
          "data": {
            "text/plain": [
              "5000"
            ]
          },
          "metadata": {
            "tags": []
          },
          "execution_count": 35
        }
      ]
    },
    {
      "cell_type": "code",
      "metadata": {
        "colab": {
          "base_uri": "https://localhost:8080/"
        },
        "id": "W4GfrLH9Bejj",
        "outputId": "1bc8d57c-8dff-4065-b141-45d8ac0d10a1"
      },
      "source": [
        "concatDataset=torch.utils.data.ConcatDataset([dataset,data])\n",
        "loader = DataLoader(concatDataset, batch_size=32,shuffle=True)\n",
        "len(concatDataset)"
      ],
      "execution_count": null,
      "outputs": [
        {
          "output_type": "execute_result",
          "data": {
            "text/plain": [
              "15000"
            ]
          },
          "metadata": {
            "tags": []
          },
          "execution_count": 36
        }
      ]
    },
    {
      "cell_type": "code",
      "metadata": {
        "id": "0d4ezIsrARTV"
      },
      "source": [
        "model=ResNet().to(device)\n",
        "\n",
        "loss_fn=nn.CrossEntropyLoss()\n",
        "optimizer=torch.optim.Adam(model.parameters(), lr=learning_rate, betas=(0.9, 0.999),weight_decay=1e-5, eps=1e-08, amsgrad=False)"
      ],
      "execution_count": null,
      "outputs": []
    },
    {
      "cell_type": "code",
      "metadata": {
        "id": "I7mOdvZEfaSf"
      },
      "source": [
        "n_total_steps = len(loader)\n",
        "for epoch in range(num_epochs1):\n",
        "   \n",
        "    correct=0\n",
        "    total=0\n",
        "    for i, (images, labels) in enumerate(loader):\n",
        "      \n",
        "    \n",
        "        images = images.to(device)\n",
        "        labels = labels.to(device,dtype=torch.int64)\n",
        "      \n",
        "\n",
        "        \n",
        "        outputs = model(images)\n",
        "        loss = loss_fn(outputs, labels)\n",
        "\n",
        "        \n",
        "        optimizer.zero_grad()\n",
        "        loss.backward()\n",
        "        optimizer.step()\n",
        "       \n",
        "        \n",
        "    \n",
        "        _, predicted = outputs.max(1)\n",
        "        total += labels.size(0)\n",
        "        correct += predicted.eq(labels).sum().item()\n",
        "      \n",
        "\n",
        "        if (i+1) % 100 == 0:\n",
        "            print (f'Epoch [{epoch+1}/{num_epochs1}], Step [{i+1}/{n_total_steps}], Loss: {loss.item():.4f}')\n",
        "      \n",
        "    \n",
        "    accu= 100 * correct / len(concatDataset)\n",
        "    test_accu=test_loop(test_loader,model)\n",
        "    print(f'Epoch [{epoch+1}/{num_epochs1}], train_accuracy: {accu:.4f},test_accuracy: {test_accu:.4f} %')   "
      ],
      "execution_count": null,
      "outputs": []
    }
  ]
}