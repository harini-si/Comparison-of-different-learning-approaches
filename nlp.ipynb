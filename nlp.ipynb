{
  "nbformat": 4,
  "nbformat_minor": 0,
  "metadata": {
    "colab": {
      "name": "nlp.ipynb",
      "provenance": [],
      "collapsed_sections": [],
      "include_colab_link": true
    },
    "kernelspec": {
      "name": "python3",
      "display_name": "Python 3"
    },
    "language_info": {
      "name": "python"
    }
  },
  "cells": [
    {
      "cell_type": "markdown",
      "metadata": {
        "id": "view-in-github",
        "colab_type": "text"
      },
      "source": [
        "<a href=\"https://colab.research.google.com/github/harini-si/saidl-assignment/blob/main/nlp.ipynb\" target=\"_parent\"><img src=\"https://colab.research.google.com/assets/colab-badge.svg\" alt=\"Open In Colab\"/></a>"
      ]
    },
    {
      "cell_type": "code",
      "metadata": {
        "id": "lBzAEvSA-6sb",
        "colab": {
          "base_uri": "https://localhost:8080/"
        },
        "outputId": "650b78a8-56a9-497b-caf7-54f6a91e8f92"
      },
      "source": [
        "import torch\n",
        "import torch.nn as nn\n",
        "import torch.nn.functional as F\n",
        "import torch.optim as optim\n",
        "import numpy as np\n",
        "from torch.utils.data import DataLoader\n",
        "from torchtext.legacy import data\n",
        "from torchtext.legacy import datasets\n",
        "\n",
        "import nltk\n",
        "nltk.download('averaged_perceptron_tagger')\n",
        "nltk.download('punkt')\n",
        "device='cuda'"
      ],
      "execution_count": 1,
      "outputs": [
        {
          "output_type": "stream",
          "text": [
            "[nltk_data] Downloading package averaged_perceptron_tagger to\n",
            "[nltk_data]     /root/nltk_data...\n",
            "[nltk_data]   Unzipping taggers/averaged_perceptron_tagger.zip.\n",
            "[nltk_data] Downloading package punkt to /root/nltk_data...\n",
            "[nltk_data]   Unzipping tokenizers/punkt.zip.\n"
          ],
          "name": "stdout"
        }
      ]
    },
    {
      "cell_type": "code",
      "metadata": {
        "id": "EQkjZgJ3m399",
        "colab": {
          "base_uri": "https://localhost:8080/"
        },
        "outputId": "318a0497-cd8d-4bb7-9eae-fddee7631cf7"
      },
      "source": [
        "text = data.Field(tokenize = 'spacy', lower = True)\n",
        "label = data.LabelField()\n",
        "train_data, val_data,test_data= datasets.SNLI.splits(text,label)"
      ],
      "execution_count": 2,
      "outputs": [
        {
          "output_type": "stream",
          "text": [
            "downloading snli_1.0.zip\n"
          ],
          "name": "stdout"
        },
        {
          "output_type": "stream",
          "text": [
            "snli_1.0.zip: 100%|██████████| 94.6M/94.6M [00:30<00:00, 3.12MB/s]\n"
          ],
          "name": "stderr"
        },
        {
          "output_type": "stream",
          "text": [
            "extracting\n"
          ],
          "name": "stdout"
        }
      ]
    },
    {
      "cell_type": "code",
      "metadata": {
        "id": "D-RNofdjnvWT"
      },
      "source": [
        "text.build_vocab(train_data, val_data)\n",
        "label.build_vocab(train_data)\n",
        "train_iter, val_iter, test_iter = data.BucketIterator.splits(\n",
        "    (train_data, val_data, test_data), batch_size=64)"
      ],
      "execution_count": 3,
      "outputs": []
    },
    {
      "cell_type": "code",
      "metadata": {
        "id": "VnFBFzXkVmWY"
      },
      "source": [
        "class Model(nn.Module):\n",
        "    def __init__(self, input_dim):\n",
        "        super().__init__()\n",
        "        self.embedding = nn.Embedding(input_dim, 300, padding_idx = 1)\n",
        "        self.fc1 = nn.Linear(300, 300)\n",
        "        self.lstm = nn.LSTM(300, 300, num_layers = 2, bidirectional = True, dropout=0.25 )\n",
        "     \n",
        "        self.fc2 = nn.Linear(1200 , 3)\n",
        "        self.dropout = nn.Dropout(0.5)\n",
        "        \n",
        "    def forward(self, prem, hypo):\n",
        "\n",
        "        p = self.embedding(prem)\n",
        "        h = self.embedding(hypo)\n",
        "        \n",
        "        p = F.relu(self.fc1(p))\n",
        "        h = F.relu(self.fc1(h))\n",
        "        \n",
        "        o_p, (h_p, c_p) = self.lstm(p)\n",
        "        o_h, (h_h, c_h) = self.lstm(h)\n",
        "\n",
        "        h_p = torch.cat((h_p[-1], h_p[-2]), dim=-1)\n",
        "        h_h = torch.cat((h_h[-1], h_h[-2]), dim=-1)\n",
        "        \n",
        "        hidden = torch.cat((h_p, h_h), dim=1)\n",
        "\n",
        "        prediction = self.fc2(hidden)\n",
        "        return prediction\n",
        "\n",
        "input_dim = len(text.vocab)\n",
        "\n"
      ],
      "execution_count": 4,
      "outputs": []
    },
    {
      "cell_type": "code",
      "metadata": {
        "id": "rS9T6hTbZPD9"
      },
      "source": [
        "device='cpu'"
      ],
      "execution_count": 15,
      "outputs": []
    },
    {
      "cell_type": "code",
      "metadata": {
        "id": "Pz2ugUUGyRQW"
      },
      "source": [
        "num_epochs=1\n",
        "model = Model(input_dim).to(device)\n",
        "criterion = nn.CrossEntropyLoss()\n",
        "optimizer = torch.optim.Adam(model.parameters(), lr=0.001)"
      ],
      "execution_count": 16,
      "outputs": []
    },
    {
      "cell_type": "code",
      "metadata": {
        "id": "Up2pK1f2dsr3"
      },
      "source": [
        "model"
      ],
      "execution_count": null,
      "outputs": []
    },
    {
      "cell_type": "code",
      "metadata": {
        "id": "7AybaId7-qwH"
      },
      "source": [
        "def eval( iterator):\n",
        "    \n",
        "    loss = 0\n",
        "    acc = 0\n",
        "    correct=0\n",
        "    model.eval()\n",
        "    \n",
        "    with torch.no_grad():\n",
        "    \n",
        "        for batch in iterator:\n",
        "\n",
        "            prem = batch.premise.to(device)\n",
        "            hypo = batch.hypothesis.to(device)\n",
        "            labels = batch.label.to(device)\n",
        "                        \n",
        "            predictions = model(prem, hypo)\n",
        "            \n",
        "            loss += criterion(predictions, labels).item()\n",
        "            correct += (predictions.argmax(1) == labels).type(torch.float).sum().item()\n",
        "            \n",
        "        acc= correct/len(val_data)*100\n",
        "        \n",
        "    return  acc "
      ],
      "execution_count": null,
      "outputs": []
    },
    {
      "cell_type": "code",
      "metadata": {
        "colab": {
          "base_uri": "https://localhost:8080/"
        },
        "id": "7skaf4ThqNmp",
        "outputId": "cca429aa-a312-4f4d-af28-39a9aba8fa86"
      },
      "source": [
        "\n",
        "n_total_steps = len(train_iter)\n",
        "for epoch in range(num_epochs):\n",
        "    model.train()\n",
        "    ep_loss=0\n",
        "    acc=0\n",
        "    correct=0\n",
        "    total=0\n",
        "    for batch in train_iter:\n",
        "        prem = batch.premise.to(device)\n",
        "        hypo = batch.hypothesis.to(device)\n",
        "        labels = batch.label.to(device)\n",
        "                        \n",
        "        outputs = model(prem, hypo)\n",
        "            \n",
        "        loss = criterion(outputs, labels)\n",
        "        optimizer.zero_grad()\n",
        "        loss.backward()\n",
        "        optimizer.step()        \n",
        "        \n",
        "        _, predicted = outputs.max(1)\n",
        "        total += labels.size(0)\n",
        "        correct += predicted.eq(labels).sum().item()\n",
        "        \n",
        "        ep_loss += loss.item()\n",
        "     \n",
        "    accu= 100 * correct / len(train_data)\n",
        "    val_accu=eval(val_iter)\n",
        "    \n",
        "    print(f'Epoch [{epoch+1}/{num_epochs}], train_accuracy: {accu:.4f} ,train_loss: {ep_loss/len(train_iter):.4f}, val_accuracy: {val_accu:.4f} ')  "
      ],
      "execution_count": null,
      "outputs": [
        {
          "output_type": "stream",
          "text": [
            "Epoch [1/1], train_accuracy: 64.0421 ,train_loss: 0.8045, val_accuracy: 66.6938 \n"
          ],
          "name": "stdout"
        }
      ]
    },
    {
      "cell_type": "code",
      "metadata": {
        "id": "FJOvk3QvXCpD"
      },
      "source": [
        "test_accu= eval(test_iter)"
      ],
      "execution_count": null,
      "outputs": []
    },
    {
      "cell_type": "code",
      "metadata": {
        "colab": {
          "base_uri": "https://localhost:8080/"
        },
        "id": "Sp2lfG8RtHLH",
        "outputId": "0e6ebd57-96a3-450d-864f-96646ead5a40"
      },
      "source": [
        "print(test_accu)"
      ],
      "execution_count": null,
      "outputs": [
        {
          "output_type": "stream",
          "text": [
            "66.42958748221906\n"
          ],
          "name": "stdout"
        }
      ]
    },
    {
      "cell_type": "code",
      "metadata": {
        "id": "EQT3SOI3aTx8"
      },
      "source": [
        "\n",
        "psent=[]\n",
        "ptags=[]\n",
        "hsent=[]\n",
        "htags=[]\n",
        "for i, batch in enumerate(train_data[0:10000]):\n",
        " \n",
        "  ps, pt = zip(*nltk.pos_tag(batch.premise))\n",
        "  psent.append(ps)\n",
        "  ptags.append(pt)\n",
        "\n",
        "  hs, ht = zip(*nltk.pos_tag(batch.hypothesis))\n",
        "  hsent.append(hs)\n",
        "  htags.append(ht)\n",
        "  \n"
      ],
      "execution_count": 6,
      "outputs": []
    },
    {
      "cell_type": "code",
      "metadata": {
        "id": "TnKY0Ngmajvk"
      },
      "source": [
        "import collections\n",
        "from torchtext.data.functional import numericalize_tokens_from_iterator\n",
        "from torchtext.vocab import build_vocab_from_iterator\n",
        "vocab = build_vocab_from_iterator(psent+hsent, specials=[\"<unk>\"])\n",
        "tag_vocab = build_vocab_from_iterator(ptags+htags, specials=[\"<unk>\"])\n",
        "\n",
        "def convert_to_ids(sentences, taggings):\n",
        "  \n",
        "  for sentence, tagging in zip(sentences, taggings):\n",
        "    \n",
        "    sentence_iter = (numericalize_tokens_from_iterator(vocab,sentences))\n",
        "    tagging_iter = (numericalize_tokens_from_iterator(tag_vocab,taggings))\n",
        "    \n",
        "  return list(sentence_iter), list(tagging_iter)\n",
        "\n",
        "ptrain_sent, ptrain_tag = convert_to_ids(psent, ptags)\n",
        "htrain_sent, htrain_tag = convert_to_ids(hsent, htags)\n",
        "\n"
      ],
      "execution_count": 7,
      "outputs": []
    },
    {
      "cell_type": "code",
      "metadata": {
        "colab": {
          "base_uri": "https://localhost:8080/"
        },
        "id": "tI4zArluWNVe",
        "outputId": "ad625a2e-fd38-477c-8bac-b06db87e809c"
      },
      "source": [
        "len(tag_vocab)"
      ],
      "execution_count": null,
      "outputs": [
        {
          "output_type": "execute_result",
          "data": {
            "text/plain": [
              "41"
            ]
          },
          "metadata": {
            "tags": []
          },
          "execution_count": 15
        }
      ]
    },
    {
      "cell_type": "code",
      "metadata": {
        "id": "zcqjv_uv1zVT"
      },
      "source": [
        "pts=[]\n",
        "for i in ptrain_sent:\n",
        "   pts.append([n for n in i])\n",
        "ptt=[]\n",
        "for i in ptrain_tag:\n",
        "   ptt.append([n for n in i])\n",
        "hts=[]\n",
        "for i in htrain_sent:\n",
        "   hts.append([n for n in i])\n",
        "\n",
        "htt=[]\n",
        "for i in htrain_tag:\n",
        "   htt.append([n for n in i])"
      ],
      "execution_count": 8,
      "outputs": []
    },
    {
      "cell_type": "code",
      "metadata": {
        "id": "X30ZkorBbG9D"
      },
      "source": [
        "da=[]\n",
        "for a,b in zip(pts,ptt):\n",
        "\n",
        "  l=[a,b]\n",
        "  l=torch.tensor(l)\n",
        "  da.append(l)\n",
        "db=[]\n",
        "for a,b in zip(hts,htt):\n",
        " \n",
        "  l=[a,b]\n",
        "  l=torch.tensor(l)\n",
        "  db.append(l)\n"
      ],
      "execution_count": null,
      "outputs": []
    },
    {
      "cell_type": "code",
      "metadata": {
        "id": "e3xziZfa3rW4"
      },
      "source": [
        "def collate_fn(items):\n",
        "  max_len = max(len(item[0]) for item in items)\n",
        "\n",
        "  sentences = torch.zeros((len(items), max_len)).long()\n",
        "  taggings = torch.zeros((len(items), max_len)).long()\n",
        "\n",
        "  for i, (sentence, tagging) in enumerate(items):\n",
        "    sentences[i][0:len(sentence)] = sentence\n",
        "    taggings[i][0:len(tagging)] = tagging\n",
        "\n",
        "  return sentences, taggings\n",
        "\n",
        "  \n",
        "pdataloader=DataLoader(da,batch_size=100, collate_fn=collate_fn)\n",
        "hdataloader=DataLoader(db,batch_size=100, collate_fn=collate_fn)"
      ],
      "execution_count": 12,
      "outputs": []
    },
    {
      "cell_type": "code",
      "metadata": {
        "colab": {
          "base_uri": "https://localhost:8080/"
        },
        "id": "NCzAmfDA3Zwi",
        "outputId": "c498bb0a-c164-406a-ee3e-224b050fe3ff"
      },
      "source": [
        "probe_model"
      ],
      "execution_count": 77,
      "outputs": [
        {
          "output_type": "execute_result",
          "data": {
            "text/plain": [
              "probe(\n",
              "  (features): Embedding(33932, 300, padding_idx=1)\n",
              "  (pr): Linear(in_features=300, out_features=41, bias=True)\n",
              ")"
            ]
          },
          "metadata": {
            "tags": []
          },
          "execution_count": 77
        }
      ]
    },
    {
      "cell_type": "code",
      "metadata": {
        "id": "wkx3AKh20YMK"
      },
      "source": [
        "class probe(nn.Module):\n",
        "    def __init__(self, model):\n",
        "        super(probe, self).__init__()\n",
        "        \n",
        "        self.features= model.embedding\n",
        "        for p in model.parameters():\n",
        "          p.requires_grad=False\n",
        "        self.pr= nn.Linear(300,41)\n",
        "    def forward(self, prem, hypo):\n",
        "        p = self.features(prem)\n",
        "        h = self.features(hypo)\n",
        "        p= self.pr(p)\n",
        "        h= self.pr(h)\n",
        "        \n",
        "        return p,h\n",
        "\n",
        "\n",
        "probe_model = probe(model).to(device)\n"
      ],
      "execution_count": 75,
      "outputs": []
    },
    {
      "cell_type": "code",
      "metadata": {
        "id": "YjuNheNNhcqG"
      },
      "source": [
        "criterion = nn.CrossEntropyLoss()\n",
        "optimizer = torch.optim.Adam(probe_model.parameters(), lr=0.01)"
      ],
      "execution_count": 80,
      "outputs": []
    },
    {
      "cell_type": "code",
      "metadata": {
        "id": "u43NfPzht7sG"
      },
      "source": [
        "#create a test function\n",
        "def evaluate_probe(model):\n",
        "    epoch_loss = 0\n",
        "    epoch_acc = 0\n",
        "    correct=0\n",
        "    total=0\n",
        "    \n",
        "    l1=0\n",
        "    l2=0\n",
        "    t1=0\n",
        "    t2=0\n",
        "    model.eval()\n",
        "    \n",
        "    with torch.no_grad():\n",
        "    \n",
        "        for i, (p,h) in enumerate(zip(pdataloader,hdataloader)) :\n",
        "\n",
        "            ps=p[0].to(device)\n",
        "            pt=p[1].to(device)\n",
        "            hs=h[0].to(device)\n",
        "            ht=h[1].to(device)\n",
        "                \n",
        "            tag1, tag2 = model(ps,hs)\n",
        "         \n",
        "          \n",
        "            x=[]\n",
        "            for i in range(100):\n",
        "              _, predicted = tag1[i].max(1)\n",
        "              x.append(predicted)\n",
        "           \n",
        "            x=torch.stack(x)\n",
        "           \n",
        "            \n",
        "            y=[]\n",
        "            for i in range(100):\n",
        "              _, pred = tag2[i].max(1)\n",
        "              y.append(pred)\n",
        "      \n",
        "            y=torch.stack(y)\n",
        "            \n",
        "            \n",
        "            l1+= ((pt==x)|(pt==0)).sum()\n",
        "            l2+= ((ht==y)|(ht==0)).sum()\n",
        "            t1+= ((pt!=-1)|(pt==0)).sum()\n",
        "            t2+= ((ht!=-1)|(ht==0)).sum()\n",
        "            \n",
        "            \n",
        "        correct=l1+l2\n",
        "        total=t1+t2\n",
        "        epoch_acc=(correct/total)*100\n",
        "        \n",
        "    return  epoch_acc"
      ],
      "execution_count": 91,
      "outputs": []
    },
    {
      "cell_type": "code",
      "metadata": {
        "id": "I-CZ7mMAbsJb"
      },
      "source": [
        "def train_probe(model):\n",
        "    epoch_loss = 0\n",
        "    epoch_acc = 0\n",
        "    correct=0\n",
        "    total=0\n",
        "    pc=0\n",
        "    hc=0\n",
        "    ptest_loss=0\n",
        "    htest_loss=0\n",
        "    l1=0\n",
        "    l2=0\n",
        "    t1=0\n",
        "    t2=0\n",
        "    \n",
        "    model.train()\n",
        "    \n",
        "    \n",
        "    \n",
        "    for i, (p,h) in enumerate(zip(pdataloader,hdataloader)) :\n",
        "\n",
        "       ps=p[0].to(device)\n",
        "       pt=p[1].to(device)\n",
        "       hs=h[0].to(device)\n",
        "       ht=h[1].to(device)\n",
        "                    \n",
        "       tag1, tag2 = model(ps,hs)\n",
        "         \n",
        "          \n",
        "       x=[]\n",
        "       for i in range(100):\n",
        "        _, predicted = tag1[i].max(1)\n",
        "        x.append(predicted)\n",
        "           \n",
        "       x=torch.stack(x)\n",
        "           \n",
        "       pc +=x.eq(pt).sum().item()\n",
        "       y=[]\n",
        "       for i in range(100):\n",
        "         _, pred = tag2[i].max(1)\n",
        "         y.append(pred)\n",
        "      \n",
        "       y=torch.stack(y)\n",
        "          \n",
        "       \n",
        "       l1+= ((pt==x)|(pt==0)).sum()\n",
        "       l2+= ((ht==y)|(ht==0)).sum()\n",
        "       t1+= ((pt!=-1)|(pt==0)).sum()\n",
        "       t2+= ((ht!=-1)|(ht==0)).sum()\n",
        "       pt = torch.zeros((len(pt),41)).long()\n",
        "       ht = torch.zeros((len(ht),41)).long() \n",
        "       ploss=criterion(tag1,pt)\n",
        "       hloss=criterion(tag2,ht)     \n",
        "       optimizer.zero_grad()\n",
        "       loss=(ploss+hloss)/2\n",
        "       loss.backward()\n",
        "       optimizer.step()     \n",
        "       \n",
        "            \n",
        "    correct=l1+l2\n",
        "    total=t1+t2\n",
        "    epoch_acc=(correct/total)*100\n",
        "        \n",
        "    return  epoch_acc"
      ],
      "execution_count": 87,
      "outputs": []
    },
    {
      "cell_type": "code",
      "metadata": {
        "id": "0f_gPaNwvKHK"
      },
      "source": [
        "for epoch in range(10):\n",
        "  print(train_probe(probe_model),evaluate_probe(probe_model))"
      ],
      "execution_count": null,
      "outputs": []
    }
  ]
}