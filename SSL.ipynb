{
  "nbformat": 4,
  "nbformat_minor": 0,
  "metadata": {
    "colab": {
      "name": "SSL.ipynb",
      "provenance": [],
      "authorship_tag": "ABX9TyMkY5Z6T/wyGwsber+vupHy",
      "include_colab_link": true
    },
    "kernelspec": {
      "name": "python3",
      "display_name": "Python 3"
    },
    "language_info": {
      "name": "python"
    },
    "widgets": {
      "application/vnd.jupyter.widget-state+json": {
        "2b383cb1988a4baeab13b4fdf54f134f": {
          "model_module": "@jupyter-widgets/controls",
          "model_name": "HBoxModel",
          "model_module_version": "1.5.0",
          "state": {
            "_view_name": "HBoxView",
            "_dom_classes": [],
            "_model_name": "HBoxModel",
            "_view_module": "@jupyter-widgets/controls",
            "_model_module_version": "1.5.0",
            "_view_count": null,
            "_view_module_version": "1.5.0",
            "box_style": "",
            "layout": "IPY_MODEL_0c6f89a189034e0d881bd0b2fc8bd7d6",
            "_model_module": "@jupyter-widgets/controls",
            "children": [
              "IPY_MODEL_5b4bab039f024bd8aab7f5413a2deaff",
              "IPY_MODEL_6e3d74dc6d994fcf924eb449428555fe",
              "IPY_MODEL_f9e54dbf6c4e4a1f9b12deedfda88f5a"
            ]
          }
        },
        "0c6f89a189034e0d881bd0b2fc8bd7d6": {
          "model_module": "@jupyter-widgets/base",
          "model_name": "LayoutModel",
          "model_module_version": "1.2.0",
          "state": {
            "_view_name": "LayoutView",
            "grid_template_rows": null,
            "right": null,
            "justify_content": null,
            "_view_module": "@jupyter-widgets/base",
            "overflow": null,
            "_model_module_version": "1.2.0",
            "_view_count": null,
            "flex_flow": null,
            "width": null,
            "min_width": null,
            "border": null,
            "align_items": null,
            "bottom": null,
            "_model_module": "@jupyter-widgets/base",
            "top": null,
            "grid_column": null,
            "overflow_y": null,
            "overflow_x": null,
            "grid_auto_flow": null,
            "grid_area": null,
            "grid_template_columns": null,
            "flex": null,
            "_model_name": "LayoutModel",
            "justify_items": null,
            "grid_row": null,
            "max_height": null,
            "align_content": null,
            "visibility": null,
            "align_self": null,
            "height": null,
            "min_height": null,
            "padding": null,
            "grid_auto_rows": null,
            "grid_gap": null,
            "max_width": null,
            "order": null,
            "_view_module_version": "1.2.0",
            "grid_template_areas": null,
            "object_position": null,
            "object_fit": null,
            "grid_auto_columns": null,
            "margin": null,
            "display": null,
            "left": null
          }
        },
        "5b4bab039f024bd8aab7f5413a2deaff": {
          "model_module": "@jupyter-widgets/controls",
          "model_name": "HTMLModel",
          "model_module_version": "1.5.0",
          "state": {
            "_view_name": "HTMLView",
            "style": "IPY_MODEL_da451bb22f6a4a9eacdee017a399e7de",
            "_dom_classes": [],
            "description": "",
            "_model_name": "HTMLModel",
            "placeholder": "​",
            "_view_module": "@jupyter-widgets/controls",
            "_model_module_version": "1.5.0",
            "value": "",
            "_view_count": null,
            "_view_module_version": "1.5.0",
            "description_tooltip": null,
            "_model_module": "@jupyter-widgets/controls",
            "layout": "IPY_MODEL_b1540df2b4144b408c1b12d2fe925292"
          }
        },
        "6e3d74dc6d994fcf924eb449428555fe": {
          "model_module": "@jupyter-widgets/controls",
          "model_name": "FloatProgressModel",
          "model_module_version": "1.5.0",
          "state": {
            "_view_name": "ProgressView",
            "style": "IPY_MODEL_0967d7d8b70d497192d18159038f67dd",
            "_dom_classes": [],
            "description": "",
            "_model_name": "FloatProgressModel",
            "bar_style": "success",
            "max": 2640397119,
            "_view_module": "@jupyter-widgets/controls",
            "_model_module_version": "1.5.0",
            "value": 2640397119,
            "_view_count": null,
            "_view_module_version": "1.5.0",
            "orientation": "horizontal",
            "min": 0,
            "description_tooltip": null,
            "_model_module": "@jupyter-widgets/controls",
            "layout": "IPY_MODEL_98205708c5034b95b6918cd04d2d0146"
          }
        },
        "f9e54dbf6c4e4a1f9b12deedfda88f5a": {
          "model_module": "@jupyter-widgets/controls",
          "model_name": "HTMLModel",
          "model_module_version": "1.5.0",
          "state": {
            "_view_name": "HTMLView",
            "style": "IPY_MODEL_4671f685c82646bfba59722f064230d9",
            "_dom_classes": [],
            "description": "",
            "_model_name": "HTMLModel",
            "placeholder": "​",
            "_view_module": "@jupyter-widgets/controls",
            "_model_module_version": "1.5.0",
            "value": " 2640397312/? [02:05&lt;00:00, 19325445.13it/s]",
            "_view_count": null,
            "_view_module_version": "1.5.0",
            "description_tooltip": null,
            "_model_module": "@jupyter-widgets/controls",
            "layout": "IPY_MODEL_ee26eccda1d840188910fe6c3cd9c693"
          }
        },
        "da451bb22f6a4a9eacdee017a399e7de": {
          "model_module": "@jupyter-widgets/controls",
          "model_name": "DescriptionStyleModel",
          "model_module_version": "1.5.0",
          "state": {
            "_view_name": "StyleView",
            "_model_name": "DescriptionStyleModel",
            "description_width": "",
            "_view_module": "@jupyter-widgets/base",
            "_model_module_version": "1.5.0",
            "_view_count": null,
            "_view_module_version": "1.2.0",
            "_model_module": "@jupyter-widgets/controls"
          }
        },
        "b1540df2b4144b408c1b12d2fe925292": {
          "model_module": "@jupyter-widgets/base",
          "model_name": "LayoutModel",
          "model_module_version": "1.2.0",
          "state": {
            "_view_name": "LayoutView",
            "grid_template_rows": null,
            "right": null,
            "justify_content": null,
            "_view_module": "@jupyter-widgets/base",
            "overflow": null,
            "_model_module_version": "1.2.0",
            "_view_count": null,
            "flex_flow": null,
            "width": null,
            "min_width": null,
            "border": null,
            "align_items": null,
            "bottom": null,
            "_model_module": "@jupyter-widgets/base",
            "top": null,
            "grid_column": null,
            "overflow_y": null,
            "overflow_x": null,
            "grid_auto_flow": null,
            "grid_area": null,
            "grid_template_columns": null,
            "flex": null,
            "_model_name": "LayoutModel",
            "justify_items": null,
            "grid_row": null,
            "max_height": null,
            "align_content": null,
            "visibility": null,
            "align_self": null,
            "height": null,
            "min_height": null,
            "padding": null,
            "grid_auto_rows": null,
            "grid_gap": null,
            "max_width": null,
            "order": null,
            "_view_module_version": "1.2.0",
            "grid_template_areas": null,
            "object_position": null,
            "object_fit": null,
            "grid_auto_columns": null,
            "margin": null,
            "display": null,
            "left": null
          }
        },
        "0967d7d8b70d497192d18159038f67dd": {
          "model_module": "@jupyter-widgets/controls",
          "model_name": "ProgressStyleModel",
          "model_module_version": "1.5.0",
          "state": {
            "_view_name": "StyleView",
            "_model_name": "ProgressStyleModel",
            "description_width": "",
            "_view_module": "@jupyter-widgets/base",
            "_model_module_version": "1.5.0",
            "_view_count": null,
            "_view_module_version": "1.2.0",
            "bar_color": null,
            "_model_module": "@jupyter-widgets/controls"
          }
        },
        "98205708c5034b95b6918cd04d2d0146": {
          "model_module": "@jupyter-widgets/base",
          "model_name": "LayoutModel",
          "model_module_version": "1.2.0",
          "state": {
            "_view_name": "LayoutView",
            "grid_template_rows": null,
            "right": null,
            "justify_content": null,
            "_view_module": "@jupyter-widgets/base",
            "overflow": null,
            "_model_module_version": "1.2.0",
            "_view_count": null,
            "flex_flow": null,
            "width": null,
            "min_width": null,
            "border": null,
            "align_items": null,
            "bottom": null,
            "_model_module": "@jupyter-widgets/base",
            "top": null,
            "grid_column": null,
            "overflow_y": null,
            "overflow_x": null,
            "grid_auto_flow": null,
            "grid_area": null,
            "grid_template_columns": null,
            "flex": null,
            "_model_name": "LayoutModel",
            "justify_items": null,
            "grid_row": null,
            "max_height": null,
            "align_content": null,
            "visibility": null,
            "align_self": null,
            "height": null,
            "min_height": null,
            "padding": null,
            "grid_auto_rows": null,
            "grid_gap": null,
            "max_width": null,
            "order": null,
            "_view_module_version": "1.2.0",
            "grid_template_areas": null,
            "object_position": null,
            "object_fit": null,
            "grid_auto_columns": null,
            "margin": null,
            "display": null,
            "left": null
          }
        },
        "4671f685c82646bfba59722f064230d9": {
          "model_module": "@jupyter-widgets/controls",
          "model_name": "DescriptionStyleModel",
          "model_module_version": "1.5.0",
          "state": {
            "_view_name": "StyleView",
            "_model_name": "DescriptionStyleModel",
            "description_width": "",
            "_view_module": "@jupyter-widgets/base",
            "_model_module_version": "1.5.0",
            "_view_count": null,
            "_view_module_version": "1.2.0",
            "_model_module": "@jupyter-widgets/controls"
          }
        },
        "ee26eccda1d840188910fe6c3cd9c693": {
          "model_module": "@jupyter-widgets/base",
          "model_name": "LayoutModel",
          "model_module_version": "1.2.0",
          "state": {
            "_view_name": "LayoutView",
            "grid_template_rows": null,
            "right": null,
            "justify_content": null,
            "_view_module": "@jupyter-widgets/base",
            "overflow": null,
            "_model_module_version": "1.2.0",
            "_view_count": null,
            "flex_flow": null,
            "width": null,
            "min_width": null,
            "border": null,
            "align_items": null,
            "bottom": null,
            "_model_module": "@jupyter-widgets/base",
            "top": null,
            "grid_column": null,
            "overflow_y": null,
            "overflow_x": null,
            "grid_auto_flow": null,
            "grid_area": null,
            "grid_template_columns": null,
            "flex": null,
            "_model_name": "LayoutModel",
            "justify_items": null,
            "grid_row": null,
            "max_height": null,
            "align_content": null,
            "visibility": null,
            "align_self": null,
            "height": null,
            "min_height": null,
            "padding": null,
            "grid_auto_rows": null,
            "grid_gap": null,
            "max_width": null,
            "order": null,
            "_view_module_version": "1.2.0",
            "grid_template_areas": null,
            "object_position": null,
            "object_fit": null,
            "grid_auto_columns": null,
            "margin": null,
            "display": null,
            "left": null
          }
        },
        "4acc3cd54348422f945c92ea664e16b0": {
          "model_module": "@jupyter-widgets/controls",
          "model_name": "HBoxModel",
          "model_module_version": "1.5.0",
          "state": {
            "_view_name": "HBoxView",
            "_dom_classes": [],
            "_model_name": "HBoxModel",
            "_view_module": "@jupyter-widgets/controls",
            "_model_module_version": "1.5.0",
            "_view_count": null,
            "_view_module_version": "1.5.0",
            "box_style": "",
            "layout": "IPY_MODEL_1f0642b555634234aab793fba3ffb3f9",
            "_model_module": "@jupyter-widgets/controls",
            "children": [
              "IPY_MODEL_fa912b099ad74b37885804c60cbdbbb3",
              "IPY_MODEL_d85d3816ea6742b882e8832d990269f3",
              "IPY_MODEL_f96bd29fafb04af28d7ff9277307f375"
            ]
          }
        },
        "1f0642b555634234aab793fba3ffb3f9": {
          "model_module": "@jupyter-widgets/base",
          "model_name": "LayoutModel",
          "model_module_version": "1.2.0",
          "state": {
            "_view_name": "LayoutView",
            "grid_template_rows": null,
            "right": null,
            "justify_content": null,
            "_view_module": "@jupyter-widgets/base",
            "overflow": null,
            "_model_module_version": "1.2.0",
            "_view_count": null,
            "flex_flow": null,
            "width": null,
            "min_width": null,
            "border": null,
            "align_items": null,
            "bottom": null,
            "_model_module": "@jupyter-widgets/base",
            "top": null,
            "grid_column": null,
            "overflow_y": null,
            "overflow_x": null,
            "grid_auto_flow": null,
            "grid_area": null,
            "grid_template_columns": null,
            "flex": null,
            "_model_name": "LayoutModel",
            "justify_items": null,
            "grid_row": null,
            "max_height": null,
            "align_content": null,
            "visibility": null,
            "align_self": null,
            "height": null,
            "min_height": null,
            "padding": null,
            "grid_auto_rows": null,
            "grid_gap": null,
            "max_width": null,
            "order": null,
            "_view_module_version": "1.2.0",
            "grid_template_areas": null,
            "object_position": null,
            "object_fit": null,
            "grid_auto_columns": null,
            "margin": null,
            "display": null,
            "left": null
          }
        },
        "fa912b099ad74b37885804c60cbdbbb3": {
          "model_module": "@jupyter-widgets/controls",
          "model_name": "HTMLModel",
          "model_module_version": "1.5.0",
          "state": {
            "_view_name": "HTMLView",
            "style": "IPY_MODEL_fc4c15ee10c64989a6519c00e62795ec",
            "_dom_classes": [],
            "description": "",
            "_model_name": "HTMLModel",
            "placeholder": "​",
            "_view_module": "@jupyter-widgets/controls",
            "_model_module_version": "1.5.0",
            "value": "100%",
            "_view_count": null,
            "_view_module_version": "1.5.0",
            "description_tooltip": null,
            "_model_module": "@jupyter-widgets/controls",
            "layout": "IPY_MODEL_4e5c36e1416648c3ba6b524ab02dbba8"
          }
        },
        "d85d3816ea6742b882e8832d990269f3": {
          "model_module": "@jupyter-widgets/controls",
          "model_name": "FloatProgressModel",
          "model_module_version": "1.5.0",
          "state": {
            "_view_name": "ProgressView",
            "style": "IPY_MODEL_68710f2f76a048eb9f29ed5a37ac85fb",
            "_dom_classes": [],
            "description": "",
            "_model_name": "FloatProgressModel",
            "bar_style": "success",
            "max": 46830571,
            "_view_module": "@jupyter-widgets/controls",
            "_model_module_version": "1.5.0",
            "value": 46830571,
            "_view_count": null,
            "_view_module_version": "1.5.0",
            "orientation": "horizontal",
            "min": 0,
            "description_tooltip": null,
            "_model_module": "@jupyter-widgets/controls",
            "layout": "IPY_MODEL_9e5b6fc456744655b4b4e1ef7b74c07e"
          }
        },
        "f96bd29fafb04af28d7ff9277307f375": {
          "model_module": "@jupyter-widgets/controls",
          "model_name": "HTMLModel",
          "model_module_version": "1.5.0",
          "state": {
            "_view_name": "HTMLView",
            "style": "IPY_MODEL_9946982efdd64f88baeae3e392325388",
            "_dom_classes": [],
            "description": "",
            "_model_name": "HTMLModel",
            "placeholder": "​",
            "_view_module": "@jupyter-widgets/controls",
            "_model_module_version": "1.5.0",
            "value": " 44.7M/44.7M [00:00&lt;00:00, 147MB/s]",
            "_view_count": null,
            "_view_module_version": "1.5.0",
            "description_tooltip": null,
            "_model_module": "@jupyter-widgets/controls",
            "layout": "IPY_MODEL_ff0c1689f0e34fcea3cd792cda0a2313"
          }
        },
        "fc4c15ee10c64989a6519c00e62795ec": {
          "model_module": "@jupyter-widgets/controls",
          "model_name": "DescriptionStyleModel",
          "model_module_version": "1.5.0",
          "state": {
            "_view_name": "StyleView",
            "_model_name": "DescriptionStyleModel",
            "description_width": "",
            "_view_module": "@jupyter-widgets/base",
            "_model_module_version": "1.5.0",
            "_view_count": null,
            "_view_module_version": "1.2.0",
            "_model_module": "@jupyter-widgets/controls"
          }
        },
        "4e5c36e1416648c3ba6b524ab02dbba8": {
          "model_module": "@jupyter-widgets/base",
          "model_name": "LayoutModel",
          "model_module_version": "1.2.0",
          "state": {
            "_view_name": "LayoutView",
            "grid_template_rows": null,
            "right": null,
            "justify_content": null,
            "_view_module": "@jupyter-widgets/base",
            "overflow": null,
            "_model_module_version": "1.2.0",
            "_view_count": null,
            "flex_flow": null,
            "width": null,
            "min_width": null,
            "border": null,
            "align_items": null,
            "bottom": null,
            "_model_module": "@jupyter-widgets/base",
            "top": null,
            "grid_column": null,
            "overflow_y": null,
            "overflow_x": null,
            "grid_auto_flow": null,
            "grid_area": null,
            "grid_template_columns": null,
            "flex": null,
            "_model_name": "LayoutModel",
            "justify_items": null,
            "grid_row": null,
            "max_height": null,
            "align_content": null,
            "visibility": null,
            "align_self": null,
            "height": null,
            "min_height": null,
            "padding": null,
            "grid_auto_rows": null,
            "grid_gap": null,
            "max_width": null,
            "order": null,
            "_view_module_version": "1.2.0",
            "grid_template_areas": null,
            "object_position": null,
            "object_fit": null,
            "grid_auto_columns": null,
            "margin": null,
            "display": null,
            "left": null
          }
        },
        "68710f2f76a048eb9f29ed5a37ac85fb": {
          "model_module": "@jupyter-widgets/controls",
          "model_name": "ProgressStyleModel",
          "model_module_version": "1.5.0",
          "state": {
            "_view_name": "StyleView",
            "_model_name": "ProgressStyleModel",
            "description_width": "",
            "_view_module": "@jupyter-widgets/base",
            "_model_module_version": "1.5.0",
            "_view_count": null,
            "_view_module_version": "1.2.0",
            "bar_color": null,
            "_model_module": "@jupyter-widgets/controls"
          }
        },
        "9e5b6fc456744655b4b4e1ef7b74c07e": {
          "model_module": "@jupyter-widgets/base",
          "model_name": "LayoutModel",
          "model_module_version": "1.2.0",
          "state": {
            "_view_name": "LayoutView",
            "grid_template_rows": null,
            "right": null,
            "justify_content": null,
            "_view_module": "@jupyter-widgets/base",
            "overflow": null,
            "_model_module_version": "1.2.0",
            "_view_count": null,
            "flex_flow": null,
            "width": null,
            "min_width": null,
            "border": null,
            "align_items": null,
            "bottom": null,
            "_model_module": "@jupyter-widgets/base",
            "top": null,
            "grid_column": null,
            "overflow_y": null,
            "overflow_x": null,
            "grid_auto_flow": null,
            "grid_area": null,
            "grid_template_columns": null,
            "flex": null,
            "_model_name": "LayoutModel",
            "justify_items": null,
            "grid_row": null,
            "max_height": null,
            "align_content": null,
            "visibility": null,
            "align_self": null,
            "height": null,
            "min_height": null,
            "padding": null,
            "grid_auto_rows": null,
            "grid_gap": null,
            "max_width": null,
            "order": null,
            "_view_module_version": "1.2.0",
            "grid_template_areas": null,
            "object_position": null,
            "object_fit": null,
            "grid_auto_columns": null,
            "margin": null,
            "display": null,
            "left": null
          }
        },
        "9946982efdd64f88baeae3e392325388": {
          "model_module": "@jupyter-widgets/controls",
          "model_name": "DescriptionStyleModel",
          "model_module_version": "1.5.0",
          "state": {
            "_view_name": "StyleView",
            "_model_name": "DescriptionStyleModel",
            "description_width": "",
            "_view_module": "@jupyter-widgets/base",
            "_model_module_version": "1.5.0",
            "_view_count": null,
            "_view_module_version": "1.2.0",
            "_model_module": "@jupyter-widgets/controls"
          }
        },
        "ff0c1689f0e34fcea3cd792cda0a2313": {
          "model_module": "@jupyter-widgets/base",
          "model_name": "LayoutModel",
          "model_module_version": "1.2.0",
          "state": {
            "_view_name": "LayoutView",
            "grid_template_rows": null,
            "right": null,
            "justify_content": null,
            "_view_module": "@jupyter-widgets/base",
            "overflow": null,
            "_model_module_version": "1.2.0",
            "_view_count": null,
            "flex_flow": null,
            "width": null,
            "min_width": null,
            "border": null,
            "align_items": null,
            "bottom": null,
            "_model_module": "@jupyter-widgets/base",
            "top": null,
            "grid_column": null,
            "overflow_y": null,
            "overflow_x": null,
            "grid_auto_flow": null,
            "grid_area": null,
            "grid_template_columns": null,
            "flex": null,
            "_model_name": "LayoutModel",
            "justify_items": null,
            "grid_row": null,
            "max_height": null,
            "align_content": null,
            "visibility": null,
            "align_self": null,
            "height": null,
            "min_height": null,
            "padding": null,
            "grid_auto_rows": null,
            "grid_gap": null,
            "max_width": null,
            "order": null,
            "_view_module_version": "1.2.0",
            "grid_template_areas": null,
            "object_position": null,
            "object_fit": null,
            "grid_auto_columns": null,
            "margin": null,
            "display": null,
            "left": null
          }
        }
      }
    },
    "accelerator": "GPU"
  },
  "cells": [
    {
      "cell_type": "markdown",
      "metadata": {
        "id": "view-in-github",
        "colab_type": "text"
      },
      "source": [
        "<a href=\"https://colab.research.google.com/github/harini-si/Comparison-of-different-learning-approaches/blob/main/SSL.ipynb\" target=\"_parent\"><img src=\"https://colab.research.google.com/assets/colab-badge.svg\" alt=\"Open In Colab\"/></a>"
      ]
    },
    {
      "cell_type": "code",
      "metadata": {
        "id": "CUrynvCDRT-m"
      },
      "source": [
        "\n",
        "import numpy as np\n",
        "import pandas as pd\n",
        "import shutil, time, os, requests, random, copy\n",
        "\n",
        "import torch\n",
        "import torch.nn as nn\n",
        "import torch.optim as optim\n",
        "from torch.utils.data import Dataset, DataLoader\n",
        "from torchvision import datasets, transforms, models\n",
        "from torchvision.transforms import ToTensor\n",
        "import matplotlib.pyplot as plt\n",
        "import PIL\n",
        "from PIL import Image\n",
        "\n",
        "from torchvision.models import resnet18\n",
        "import torch.nn.functional as F"
      ],
      "execution_count": null,
      "outputs": []
    },
    {
      "cell_type": "code",
      "metadata": {
        "id": "BotN3x1yGJPq"
      },
      "source": [
        "device='cuda'"
      ],
      "execution_count": null,
      "outputs": []
    },
    {
      "cell_type": "code",
      "metadata": {
        "id": "YGuGreNowo7v"
      },
      "source": [
        "\n",
        "feature_transform = transforms.Compose([\n",
        "        transforms.RandomResizedCrop(96),\n",
        "        transforms.RandomHorizontalFlip(p=0.5),\n",
        "        transforms.RandomApply([transforms.ColorJitter(0.4, 0.4, 0.4, 0.1)], p=0.8),\n",
        "        transforms.RandomGrayscale(p=0.2),\n",
        "        transforms.ToTensor(),\n",
        "        transforms.Normalize([0.4914, 0.4822, 0.4465], [0.2023, 0.1994, 0.2010])\n",
        "    ])\n",
        "transform=transforms.Compose([transforms.RandomResizedCrop(96),transforms.ToTensor()])"
      ],
      "execution_count": null,
      "outputs": []
    },
    {
      "cell_type": "code",
      "metadata": {
        "id": "U-o3PvoIuyds"
      },
      "source": [
        "class data(datasets.STL10):\n",
        "\n",
        "    def __getitem__(self, index):\n",
        "       \n",
        "       \n",
        "        img1 = self.data[index]\n",
        "\n",
        "        img = Image.fromarray(np.transpose(img1, (1, 2, 0)))\n",
        "\n",
        "        if self.transform is not None:\n",
        "            img1 = self.transform(img)\n",
        "            img2 = self.transform(img)\n",
        "        else:\n",
        "            img2 = img1 = img\n",
        "\n",
        "\n",
        "        return img1, img2\n"
      ],
      "execution_count": null,
      "outputs": []
    },
    {
      "cell_type": "code",
      "metadata": {
        "colab": {
          "base_uri": "https://localhost:8080/",
          "height": 116,
          "referenced_widgets": [
            "2b383cb1988a4baeab13b4fdf54f134f",
            "0c6f89a189034e0d881bd0b2fc8bd7d6",
            "5b4bab039f024bd8aab7f5413a2deaff",
            "6e3d74dc6d994fcf924eb449428555fe",
            "f9e54dbf6c4e4a1f9b12deedfda88f5a",
            "da451bb22f6a4a9eacdee017a399e7de",
            "b1540df2b4144b408c1b12d2fe925292",
            "0967d7d8b70d497192d18159038f67dd",
            "98205708c5034b95b6918cd04d2d0146",
            "4671f685c82646bfba59722f064230d9",
            "ee26eccda1d840188910fe6c3cd9c693"
          ]
        },
        "id": "6-Pr_S4_j6No",
        "outputId": "0d6e5587-42d0-4358-a678-21df7cfa9753"
      },
      "source": [
        "unlabeled_data = data(root=\"./data\", split='unlabeled', download=True, transform=feature_transform)\n",
        "train_data=datasets.STL10(root=\"./data\",split='train',download=True,transform=transform)\n",
        "test_data=datasets.STL10(root=\"./data\",split='test',download=True,transform=ToTensor())\n",
        "unlabeled1=torch.utils.data.Subset(unlabeled_data,range(0,int (len(unlabeled_data)/2), 2))\n",
        "unlabeled_loader=DataLoader(unlabeled1,shuffle=True,batch_size=128)\n",
        "train_loader=DataLoader(train_data,shuffle=True,batch_size=64)\n",
        "test_loader=DataLoader(test_data,shuffle=True,batch_size=64)"
      ],
      "execution_count": null,
      "outputs": [
        {
          "output_type": "stream",
          "text": [
            "Downloading http://ai.stanford.edu/~acoates/stl10/stl10_binary.tar.gz to ./data/stl10_binary.tar.gz\n"
          ],
          "name": "stdout"
        },
        {
          "output_type": "display_data",
          "data": {
            "application/vnd.jupyter.widget-view+json": {
              "model_id": "2b383cb1988a4baeab13b4fdf54f134f",
              "version_minor": 0,
              "version_major": 2
            },
            "text/plain": [
              "  0%|          | 0/2640397119 [00:00<?, ?it/s]"
            ]
          },
          "metadata": {
            "tags": []
          }
        },
        {
          "output_type": "stream",
          "text": [
            "Extracting ./data/stl10_binary.tar.gz to ./data\n",
            "Files already downloaded and verified\n",
            "Files already downloaded and verified\n"
          ],
          "name": "stdout"
        }
      ]
    },
    {
      "cell_type": "code",
      "metadata": {
        "id": "Wpfjx83SrASC"
      },
      "source": [
        "class Identity(nn.Module):\n",
        "    def __init__(self):\n",
        "        super(Identity, self).__init__()\n",
        "    def forward(self, x):\n",
        "        return x"
      ],
      "execution_count": null,
      "outputs": []
    },
    {
      "cell_type": "code",
      "metadata": {
        "id": "pZtOlE2Wpx7P"
      },
      "source": [
        "class SimCLR(nn.Module):\n",
        "    def __init__(self):\n",
        "        super(SimCLR,self).__init__()\n",
        "        self.pretrained = models.resnet18(pretrained=True)\n",
        "        \n",
        "        self.pretrained.conv1 = nn.Conv2d(3, 64, kernel_size=(3, 3), stride=(1, 1), bias=False)\n",
        "        self.pretrained.maxpool = Identity()\n",
        "        \n",
        "        self.pretrained.fc = Identity()\n",
        "        \n",
        "        for p in self.pretrained.parameters():\n",
        "            p.requires_grad = True\n",
        "       \n",
        "        self.g = nn.Sequential(nn.Linear(512, 512, bias=False), nn.BatchNorm1d(512),\n",
        "                               nn.ReLU(inplace=True), nn.Linear(512,128, bias=True))\n",
        "        \n",
        "    def forward(self, x):\n",
        "        x = self.pretrained(x)\n",
        "        feature = torch.flatten(x, start_dim=1)\n",
        "        out = self.g(feature)\n",
        "        return F.normalize(out, dim=-1)"
      ],
      "execution_count": null,
      "outputs": []
    },
    {
      "cell_type": "code",
      "metadata": {
        "id": "Ca_XPZM8WtZY"
      },
      "source": [
        "simclr_model.pretrained"
      ],
      "execution_count": null,
      "outputs": []
    },
    {
      "cell_type": "code",
      "metadata": {
        "id": "EdthccnpoC4I"
      },
      "source": [
        "\n",
        "class contrastive_loss(nn.Module):\n",
        "    def __init__(self, normalize=False):\n",
        "        super(contrastive_loss, self).__init__()\n",
        "   \n",
        "        self.normalize = normalize\n",
        "\n",
        "    def forward(self, zi, zj):\n",
        "\n",
        "        x = torch.cat((zi, zj), dim=0)\n",
        "\n",
        "        mat = torch.mm(x, x.T)\n",
        "        if self.normalize:\n",
        "            a = torch.mm(torch.linalg.matrix_norm(x, dim=1).unsqueeze(1), torch.linalg.matrix_norm(x, dim=1).unsqueeze(1).T)\n",
        "            mat = mat /( a+1e-16)\n",
        "\n",
        "        similarity = torch.exp(mat / 0.2)\n",
        "\n",
        "        if self.normalize:\n",
        "            a = torch.torch.linalg.matrix_norm(zi, dim=1) * torch.torch.linalg.matrix_norm(zj, dim=1)\n",
        "            sim = torch.exp(torch.sum(zi * zj, dim=-1) / (a / 0.2))\n",
        "        else:\n",
        "            sim = torch.exp(torch.sum(zi * zj, dim=-1) / 0.2)\n",
        "\n",
        "        sim = torch.cat((sim, sim), dim=0)\n",
        "\n",
        "        normalize = torch.exp(torch.ones(x.size(0)) / 0.2)\n",
        "       \n",
        "        loss = torch.mean(-torch.log(sim / (torch.sum(similarity, dim=-1) - normalize)))\n",
        "\n",
        "        return loss"
      ],
      "execution_count": null,
      "outputs": []
    },
    {
      "cell_type": "code",
      "metadata": {
        "id": "etrVoGXmoG0U",
        "colab": {
          "base_uri": "https://localhost:8080/",
          "height": 66,
          "referenced_widgets": [
            "4acc3cd54348422f945c92ea664e16b0",
            "1f0642b555634234aab793fba3ffb3f9",
            "fa912b099ad74b37885804c60cbdbbb3",
            "d85d3816ea6742b882e8832d990269f3",
            "f96bd29fafb04af28d7ff9277307f375",
            "fc4c15ee10c64989a6519c00e62795ec",
            "4e5c36e1416648c3ba6b524ab02dbba8",
            "68710f2f76a048eb9f29ed5a37ac85fb",
            "9e5b6fc456744655b4b4e1ef7b74c07e",
            "9946982efdd64f88baeae3e392325388",
            "ff0c1689f0e34fcea3cd792cda0a2313"
          ]
        },
        "outputId": "9e629b9b-0c37-4faa-bb89-b54da2104568"
      },
      "source": [
        "simclr_model = SimCLR().to(device)\n",
        "criterion = nn.CrossEntropyLoss().to(device)\n",
        "optimizer = torch.optim.Adam(simclr_model.parameters(),lr=0.01)"
      ],
      "execution_count": null,
      "outputs": [
        {
          "output_type": "stream",
          "text": [
            "Downloading: \"https://download.pytorch.org/models/resnet18-f37072fd.pth\" to /root/.cache/torch/hub/checkpoints/resnet18-f37072fd.pth\n"
          ],
          "name": "stderr"
        },
        {
          "output_type": "display_data",
          "data": {
            "application/vnd.jupyter.widget-view+json": {
              "model_id": "4acc3cd54348422f945c92ea664e16b0",
              "version_minor": 0,
              "version_major": 2
            },
            "text/plain": [
              "  0%|          | 0.00/44.7M [00:00<?, ?B/s]"
            ]
          },
          "metadata": {
            "tags": []
          }
        }
      ]
    },
    {
      "cell_type": "code",
      "metadata": {
        "id": "gw3D5gp1W2YN"
      },
      "source": [
        "simclr_model"
      ],
      "execution_count": null,
      "outputs": []
    },
    {
      "cell_type": "code",
      "metadata": {
        "id": "yd94hL2EoOIS"
      },
      "source": [
        "def train(model, loader, epoch, num_epochs):\n",
        "\n",
        "    loss_func = contrastive_loss()\n",
        "\n",
        "\n",
        "    model.train()\n",
        "  \n",
        "    total_loss = 0.0\n",
        "    total_steps=len(loader)\n",
        "\n",
        "    for i, (x_i, x_j) in enumerate(loader):\n",
        "\n",
        "        x_i = x_i.to(device) \n",
        "        x_j = x_j.to(device) \n",
        "\n",
        "        z_i = simclr_model(x_i)\n",
        "        z_j = simclr_model(x_j)\n",
        "\n",
        "        loss = loss_func(z_i, z_j)\n",
        "        loss.backward()\n",
        "\n",
        "        optimizer.step()\n",
        "        simclr_model.zero_grad()\n",
        "\n",
        "        total_loss += loss.item()\n",
        "        if i%100==0:\n",
        "          print (f'Epoch [{epoch+1}/{num_epochs}], Step [{i+1}/{total_steps}], Loss: {loss.item():.4f}')\n",
        "\n"
      ],
      "execution_count": null,
      "outputs": []
    },
    {
      "cell_type": "code",
      "metadata": {
        "id": "UVqaLUVGuc-X"
      },
      "source": [
        "num_epochs=8\n",
        "for epoch in range(num_epochs):\n",
        "  train(simclr_model, unlabeled_loader,epoch, num_epochs)\n"
      ],
      "execution_count": null,
      "outputs": []
    },
    {
      "cell_type": "code",
      "metadata": {
        "id": "I5EfDMFV3qpO"
      },
      "source": [
        "class LinearClassifier(nn.Module):\n",
        "    def __init__(self,model, input_dim=512, num_classes=10):\n",
        "        super(LinearClassifier, self).__init__()\n",
        "        self.input_dim = input_dim\n",
        "        self.num_classes = num_classes\n",
        "        self.encoder= model\n",
        "\n",
        "        for p in self.encoder.parameters():\n",
        "            p.requires_grad = False\n",
        "        self.fc = nn.Linear(self.input_dim, self.num_classes)\n",
        "\n",
        "    def forward(self, x):\n",
        "        out = self.encoder.pretrained(x)\n",
        "        out = self.fc(out)\n",
        "        return out"
      ],
      "execution_count": null,
      "outputs": []
    },
    {
      "cell_type": "code",
      "metadata": {
        "id": "Fp2JoG2T8NLq"
      },
      "source": [
        "classifier_model= LinearClassifier(simclr_model).to(device)\n",
        "loss_func = nn.CrossEntropyLoss()\n",
        "optimizer = torch.optim.Adam(classifier_model.parameters(),lr=0.001)\n",
        "num_epochs1=15"
      ],
      "execution_count": null,
      "outputs": []
    },
    {
      "cell_type": "code",
      "metadata": {
        "colab": {
          "base_uri": "https://localhost:8080/"
        },
        "id": "Jz5o97LtuHQ9",
        "outputId": "217983fe-d642-4f04-882f-e46385df57da"
      },
      "source": [
        "#def test loop and supervised training\n",
        "def test_loop(dataloader, model):\n",
        "    size = len(dataloader.dataset)\n",
        "    num_batches = len(dataloader)\n",
        "    test_loss, correct = 0, 0\n",
        "    model.eval()\n",
        "    with torch.no_grad():\n",
        "        for X, y in dataloader:\n",
        "            X=X.to('cuda')\n",
        "            y=y.to('cuda')\n",
        "            pred = model(X)\n",
        "            test_loss += loss_func(pred, y).item()\n",
        "            correct += (pred.argmax(1) == y).type(torch.float).sum().item()\n",
        "\n",
        "    test_loss /= num_batches\n",
        "    correct /= size\n",
        "    Accuracy=100*correct\n",
        "    return Accuracy\n",
        "n_total_steps = len(train_loader)\n",
        "for epoch in range(num_epochs1):\n",
        "   \n",
        "    correct=0\n",
        "    total=0\n",
        "    for i, (images, labels) in enumerate(train_loader):\n",
        "      \n",
        "        images = images.to('cuda')\n",
        "        labels = labels.to('cuda')\n",
        "\n",
        "        \n",
        "        outputs = classifier_model(images)\n",
        "        loss = loss_func(outputs, labels)\n",
        "\n",
        "        \n",
        "        optimizer.zero_grad()\n",
        "        loss.backward()\n",
        "        optimizer.step()\n",
        "       \n",
        "        \n",
        "    \n",
        "        _, predicted = outputs.max(1)\n",
        "        total += labels.size(0)\n",
        "        correct += predicted.eq(labels).sum().item()\n",
        "      \n",
        "\n",
        "        if (i+1) % 20 == 0:\n",
        "            print (f'Epoch [{epoch+1}/{num_epochs1}], Step [{i+1}/{n_total_steps}], Loss: {loss.item():.4f}')\n",
        "      \n",
        "    \n",
        "    accu= 100 * correct / len(train_data)\n",
        "    test_accu=test_loop(test_loader,classifier_model)\n",
        "    print(f'Epoch [{epoch+1}/{num_epochs1}], train_accuracy: {accu:.4f},test_accuracy: {test_accu:.4f} %')   \n"
      ],
      "execution_count": null,
      "outputs": [
        {
          "output_type": "stream",
          "text": [
            "Epoch [1/20], Step [20/79], Loss: 1.5992\n",
            "Epoch [1/20], Step [40/79], Loss: 1.8067\n",
            "Epoch [1/20], Step [60/79], Loss: 1.5457\n",
            "Epoch [1/20], train_accuracy: 32.8200,test_accuracy: 36.3500 %\n",
            "Epoch [2/20], Step [20/79], Loss: 1.4903\n",
            "Epoch [2/20], Step [40/79], Loss: 1.6157\n",
            "Epoch [2/20], Step [60/79], Loss: 1.4983\n",
            "Epoch [2/20], train_accuracy: 37.4800,test_accuracy: 39.2875 %\n",
            "Epoch [3/20], Step [20/79], Loss: 1.5767\n",
            "Epoch [3/20], Step [40/79], Loss: 1.6289\n",
            "Epoch [3/20], Step [60/79], Loss: 1.4111\n",
            "Epoch [3/20], train_accuracy: 38.8600,test_accuracy: 40.9125 %\n",
            "Epoch [4/20], Step [20/79], Loss: 1.6718\n",
            "Epoch [4/20], Step [40/79], Loss: 1.4896\n",
            "Epoch [4/20], Step [60/79], Loss: 1.5708\n",
            "Epoch [4/20], train_accuracy: 39.9400,test_accuracy: 40.1125 %\n",
            "Epoch [5/20], Step [20/79], Loss: 1.4652\n",
            "Epoch [5/20], Step [40/79], Loss: 1.9431\n",
            "Epoch [5/20], Step [60/79], Loss: 1.5832\n",
            "Epoch [5/20], train_accuracy: 40.0200,test_accuracy: 40.5625 %\n",
            "Epoch [6/20], Step [20/79], Loss: 1.6476\n",
            "Epoch [6/20], Step [40/79], Loss: 1.4764\n",
            "Epoch [6/20], Step [60/79], Loss: 1.2836\n",
            "Epoch [6/20], train_accuracy: 40.4600,test_accuracy: 40.6000 %\n",
            "Epoch [7/20], Step [20/79], Loss: 1.6058\n",
            "Epoch [7/20], Step [40/79], Loss: 1.5822\n",
            "Epoch [7/20], Step [60/79], Loss: 1.5942\n",
            "Epoch [7/20], train_accuracy: 41.6600,test_accuracy: 40.7500 %\n",
            "Epoch [8/20], Step [20/79], Loss: 1.5274\n",
            "Epoch [8/20], Step [40/79], Loss: 1.5648\n",
            "Epoch [8/20], Step [60/79], Loss: 1.6448\n",
            "Epoch [8/20], train_accuracy: 40.0000,test_accuracy: 39.7500 %\n",
            "Epoch [9/20], Step [20/79], Loss: 1.7281\n",
            "Epoch [9/20], Step [40/79], Loss: 1.5396\n",
            "Epoch [9/20], Step [60/79], Loss: 1.5398\n",
            "Epoch [9/20], train_accuracy: 42.1400,test_accuracy: 41.2750 %\n",
            "Epoch [10/20], Step [20/79], Loss: 1.4991\n",
            "Epoch [10/20], Step [40/79], Loss: 1.2917\n",
            "Epoch [10/20], Step [60/79], Loss: 1.6617\n",
            "Epoch [10/20], train_accuracy: 41.0200,test_accuracy: 41.5250 %\n",
            "Epoch [11/20], Step [20/79], Loss: 1.5904\n",
            "Epoch [11/20], Step [40/79], Loss: 1.4928\n",
            "Epoch [11/20], Step [60/79], Loss: 1.3321\n",
            "Epoch [11/20], train_accuracy: 42.9200,test_accuracy: 40.1125 %\n",
            "Epoch [12/20], Step [20/79], Loss: 1.5117\n",
            "Epoch [12/20], Step [40/79], Loss: 1.5251\n",
            "Epoch [12/20], Step [60/79], Loss: 1.4360\n",
            "Epoch [12/20], train_accuracy: 42.2800,test_accuracy: 42.0375 %\n",
            "Epoch [13/20], Step [20/79], Loss: 1.6140\n",
            "Epoch [13/20], Step [40/79], Loss: 1.5700\n",
            "Epoch [13/20], Step [60/79], Loss: 1.3101\n",
            "Epoch [13/20], train_accuracy: 42.7200,test_accuracy: 42.1125 %\n",
            "Epoch [14/20], Step [20/79], Loss: 1.4939\n",
            "Epoch [14/20], Step [40/79], Loss: 1.5119\n",
            "Epoch [14/20], Step [60/79], Loss: 1.5118\n",
            "Epoch [14/20], train_accuracy: 43.1000,test_accuracy: 42.8375 %\n",
            "Epoch [15/20], Step [20/79], Loss: 1.4482\n",
            "Epoch [15/20], Step [40/79], Loss: 1.5415\n",
            "Epoch [15/20], Step [60/79], Loss: 1.6958\n",
            "Epoch [15/20], train_accuracy: 42.9400,test_accuracy: 41.0125 %\n",
            "Epoch [16/20], Step [20/79], Loss: 1.4510\n",
            "Epoch [16/20], Step [40/79], Loss: 1.5432\n",
            "Epoch [16/20], Step [60/79], Loss: 1.6511\n",
            "Epoch [16/20], train_accuracy: 42.5000,test_accuracy: 43.6250 %\n",
            "Epoch [17/20], Step [20/79], Loss: 1.4987\n",
            "Epoch [17/20], Step [40/79], Loss: 1.5109\n",
            "Epoch [17/20], Step [60/79], Loss: 1.6437\n",
            "Epoch [17/20], train_accuracy: 42.7400,test_accuracy: 41.5500 %\n",
            "Epoch [18/20], Step [20/79], Loss: 1.7507\n",
            "Epoch [18/20], Step [40/79], Loss: 1.4452\n",
            "Epoch [18/20], Step [60/79], Loss: 1.4549\n",
            "Epoch [18/20], train_accuracy: 43.0800,test_accuracy: 40.3875 %\n",
            "Epoch [19/20], Step [20/79], Loss: 1.5561\n",
            "Epoch [19/20], Step [40/79], Loss: 1.5073\n",
            "Epoch [19/20], Step [60/79], Loss: 1.5327\n",
            "Epoch [19/20], train_accuracy: 42.8600,test_accuracy: 44.3750 %\n",
            "Epoch [20/20], Step [20/79], Loss: 1.6330\n",
            "Epoch [20/20], Step [40/79], Loss: 1.4083\n",
            "Epoch [20/20], Step [60/79], Loss: 1.4213\n",
            "Epoch [20/20], train_accuracy: 43.7400,test_accuracy: 43.7250 %\n"
          ],
          "name": "stdout"
        }
      ]
    }
  ]
}